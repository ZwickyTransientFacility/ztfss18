{
 "cells": [
  {
   "cell_type": "markdown",
   "metadata": {},
   "source": [
    "# Hands-on Session: Writing a Filter"
   ]
  },
  {
   "cell_type": "markdown",
   "metadata": {},
   "source": [
    "Welcome! In this notebook, you will learn to write a simple filter to search for transients in a sample set of alerts. \n"
   ]
  },
  {
   "cell_type": "markdown",
   "metadata": {},
   "source": [
    "As you learned this morning, the alert packets are stored in .avro files. For this session, a set of .avro files has been prepared for you. There are some real transients in this set of files (!) but there are way too many files to search by eye -- you will have to write a filter! As you do so, you will find it useful to refer to the alert schema, since these are the fields you will be able to use:\n",
    "https://zwickytransientfacility.github.io/ztf-avro-alert/schema.html"
   ]
  },
  {
   "cell_type": "markdown",
   "metadata": {},
   "source": [
    "We start by importing fastavro (to read the alert packets)\n",
    "and checking out how many alerts there are in the dataset."
   ]
  },
  {
   "cell_type": "code",
   "execution_count": null,
   "metadata": {
    "collapsed": false
   },
   "outputs": [],
   "source": [
    "import fastavro\n",
    "import glob\n",
    "\n",
    "# You will have to modify this path to wherever you stored the alerts\n",
    "# in the last session\n",
    "files = glob.glob(\"../alerts/20180713/*.avro\")\n",
    "print(\"There are %s alerts in this dataset\" %len(files))"
   ]
  },
  {
   "cell_type": "markdown",
   "metadata": {},
   "source": [
    "As you can see, there are nearly 1000 alerts in this dataset. In practice, ZTF produces nearly a million alerts per night -- and LSST will produce nearly 10 million alerts per night!"
   ]
  },
  {
   "cell_type": "markdown",
   "metadata": {
    "collapsed": true
   },
   "source": [
    "We will put our filter into a function called my_filter. Ultimately, our filter will have several components. The first few components are important for almost any filter. (1) We want the transient to be real and not bogus, (2) we want to make sure that it's not an artifact from a bright star, and (3) we want to make sure it's a positive subtraction. Below is a filter that will apply these cuts."
   ]
  },
  {
   "cell_type": "code",
   "execution_count": null,
   "metadata": {
    "collapsed": true
   },
   "outputs": [],
   "source": [
    "def my_filter(current_observation):\n",
    "    \"\"\" A filter to reduce the 835 alerts into a much smaller number! \"\"\"\n",
    "    \n",
    "    # First part: initialize the filtering criteria.\n",
    "    # Notice that these are initially all set to False.\n",
    "    # If the source passes our criteria, \n",
    "    # we will set each of these accordingly and then check them at the end.\n",
    "    passes_filter = False\n",
    "    positivesubtraction = False\n",
    "    real = False\n",
    "    brightstar = False\n",
    "    \n",
    "    # If a source is a positive subtraction, then the field 'isdiffpos'\n",
    "    # is set to either 't' (True) or '1' (another way to say True)\n",
    "    isdiffpos = current_observation['candidate']['isdiffpos']\n",
    "    if (isdiffpos and (isdiffpos == 't' or isdiffpos == '1')):\n",
    "        positivesubtraction = True\n",
    "\n",
    "    # To decide that a source is real, we use the real-bogus (RB) score\n",
    "    # as well as some metrics that describe the shape of the PSF.\n",
    "    rbscore = current_observation['candidate']['rb']\n",
    "    fwhm = current_observation['candidate']['fwhm']\n",
    "    nbad = current_observation['candidate']['nbad']\n",
    "    m_now = current_observation['candidate']['magpsf']\n",
    "    m_app = current_observation['candidate']['magap']\n",
    "    psfminap = m_now - m_app\n",
    "    if (rbscore and rbscore > 0.3 and fwhm > 0.5 and nbad < 5 and (psfminap < 0.75 or psfminap > (-0.75))):\n",
    "        real = True\n",
    "\n",
    "    # Here are some complicated criteria to get rid of artifacts from bright stars.\n",
    "    # We developed this as part of the ZTF commissioning period...\n",
    "    # don't worry too much about it.\n",
    "    sgscore = current_observation['candidate']['sgscore1']\n",
    "    sgscore2 = current_observation['candidate']['sgscore2']\n",
    "    sgscore3 = current_observation['candidate']['sgscore3']\n",
    "    distpsnr1 = current_observation['candidate']['distpsnr1']\n",
    "    distpsnr2 = current_observation['candidate']['distpsnr2']\n",
    "    distpsnr3 = current_observation['candidate']['distpsnr3']\n",
    "    srmag = current_observation['candidate']['srmag1']\n",
    "    srmag2 = current_observation['candidate']['srmag2']\n",
    "    srmag3 = current_observation['candidate']['srmag3']\n",
    "    if (\n",
    "        (distpsnr1 and srmag and distpsnr1 < 20 and srmag < 15.0 and srmag > 0 and sgscore > 0.49) \n",
    "        or (distpsnr2 and srmag2 and distpsnr2 < 20 and srmag2 < 15.0 and srmag2 > 0 and sgscore2 > 0.49) \n",
    "        or (distpsnr3 and srmag3 and distpsnr3 < 20 and srmag3 < 15.0 and srmag3 > 0 and sgscore3 > 0.49)):\n",
    "        brightstar = True\n",
    "    \n",
    "    # Now that we have a basic filter, we can return whether or not\n",
    "    # a source passed our criteria.\n",
    "    passes_filter = real and positivesubtraction and ((not brightstar))\n",
    "    return passes_filter"
   ]
  },
  {
   "cell_type": "markdown",
   "metadata": {},
   "source": [
    "Let's try out the filter, and count how many survive out of the original 835."
   ]
  },
  {
   "cell_type": "code",
   "execution_count": null,
   "metadata": {
    "collapsed": false
   },
   "outputs": [],
   "source": [
    "count = 0\n",
    "for f in files:\n",
    "    with open(f, 'rb') as fo:\n",
    "        reader = fastavro.reader(fo)\n",
    "        candidate = next(reader, None)\n",
    "        result = my_filter(candidate)\n",
    "        if result:\n",
    "            count += 1\n",
    "print(\"%s candidates passed the filter\" %count)"
   ]
  },
  {
   "cell_type": "markdown",
   "metadata": {},
   "source": [
    "About 1/4 passed the filter. That's still a lot to look through by eye.\n",
    "To make it more manageable, let's start introducing some astrophysical requirements.\n",
    "In particular, we're going to try to find some supernovae. Supernovae are located in galaxies,\n",
    "so one requirement is that our source shouldn't be co-located with (say, within 2 arcseconds of) a star.\n",
    "Below is the same filter as above, with an additional requirement to not be a star."
   ]
  },
  {
   "cell_type": "code",
   "execution_count": null,
   "metadata": {
    "collapsed": true
   },
   "outputs": [],
   "source": [
    "def my_filter(current_observation):\n",
    "    \"\"\" A filter to reduce the 835 alerts into a much smaller number! \"\"\"\n",
    "    \n",
    "    # First part: initialize the filtering criteria.\n",
    "    # Notice that these are initially all set to False.\n",
    "    # If the source passes our criteria, \n",
    "    # we will set each of these accordingly and then check them at the end.\n",
    "    passes_filter = False\n",
    "    positivesubtraction = False\n",
    "    real = False\n",
    "    brightstar = False\n",
    "    nopointunderneath = True\n",
    "    \n",
    "    # If a source is a positive subtraction, then the field 'isdiffpos'\n",
    "    # is set to either 't' (True) or '1' (another way to say True)\n",
    "    isdiffpos = current_observation['candidate']['isdiffpos']\n",
    "    if (isdiffpos and (isdiffpos == 't' or isdiffpos == '1')):\n",
    "        positivesubtraction = True\n",
    "\n",
    "    # To decide that a source is real, we use the real-bogus (RB) score\n",
    "    # as well as some metrics that describe the shape of the PSF.\n",
    "    rbscore = current_observation['candidate']['rb']\n",
    "    fwhm = current_observation['candidate']['fwhm']\n",
    "    nbad = current_observation['candidate']['nbad']\n",
    "    m_now = current_observation['candidate']['magpsf']\n",
    "    m_app = current_observation['candidate']['magap']\n",
    "    psfminap = m_now - m_app\n",
    "    if (rbscore and rbscore > 0.3 and fwhm > 0.5 and nbad < 5 and (psfminap < 0.75 or psfminap > (-0.75))):\n",
    "        real = True\n",
    "\n",
    "    # Here are some complicated criteria to get rid of artifacts from bright stars.\n",
    "    # We developed this as part of the ZTF commissioning period...\n",
    "    # don't worry too much about it.\n",
    "    sgscore = current_observation['candidate']['sgscore1']\n",
    "    sgscore2 = current_observation['candidate']['sgscore2']\n",
    "    sgscore3 = current_observation['candidate']['sgscore3']\n",
    "    distpsnr1 = current_observation['candidate']['distpsnr1']\n",
    "    distpsnr2 = current_observation['candidate']['distpsnr2']\n",
    "    distpsnr3 = current_observation['candidate']['distpsnr3']\n",
    "    srmag = current_observation['candidate']['srmag1']\n",
    "    srmag2 = current_observation['candidate']['srmag2']\n",
    "    srmag3 = current_observation['candidate']['srmag3']\n",
    "    if (\n",
    "        (distpsnr1 and srmag and distpsnr1 < 20 and srmag < 15.0 and srmag > 0 and sgscore > 0.49) \n",
    "        or (distpsnr2 and srmag2 and distpsnr2 < 20 and srmag2 < 15.0 and srmag2 > 0 and sgscore2 > 0.49) \n",
    "        or (distpsnr3 and srmag3 and distpsnr3 < 20 and srmag3 < 15.0 and srmag3 > 0 and sgscore3 > 0.49)):\n",
    "        brightstar = True\n",
    "    \n",
    "    # Not within 2 arcseconds of a star\n",
    "    if (sgscore and distpsnr1 and sgscore > 0.76 and distpsnr1 < 2):\n",
    "        nopointunderneath = False\n",
    "    \n",
    "    # Now that we have a basic filter, we can return whether or not\n",
    "    # a source passed our criteria.\n",
    "    passes_filter = real and positivesubtraction and ((not brightstar)) and nopointunderneath\n",
    "    return passes_filter"
   ]
  },
  {
   "cell_type": "markdown",
   "metadata": {},
   "source": [
    "How many candidates pass the filter this time?"
   ]
  },
  {
   "cell_type": "code",
   "execution_count": null,
   "metadata": {
    "collapsed": false
   },
   "outputs": [],
   "source": [
    "count = 0\n",
    "for f in files:\n",
    "    with open(f, 'rb') as fo:\n",
    "        reader = fastavro.reader(fo)\n",
    "        candidate = next(reader, None)\n",
    "        result = my_filter(candidate)\n",
    "        if result:\n",
    "            count += 1\n",
    "print(\"%s candidates passed the filter\" %count)"
   ]
  },
  {
   "cell_type": "markdown",
   "metadata": {},
   "source": [
    "This is getting more manageable. Now, try copying the filter code above and adding an additional\n",
    "criterion: the duration of the transient. Let's say that we expect a supernova to last less than a month.\n",
    "Hint: use the fields 'jdendhist' and 'jdstarthist' (see the alert schema info page linked above). \n"
   ]
  },
  {
   "cell_type": "code",
   "execution_count": null,
   "metadata": {
    "collapsed": true
   },
   "outputs": [],
   "source": [
    "def supernovae(current_observation):\n",
    "    \"\"\" A filter to reduce the 835 alerts into a much smaller number of candidate supernovae! \"\"\"\n",
    "    \n",
    "    # copy the code from above, but this time add the criterion of the duration of the transient"
   ]
  },
  {
   "cell_type": "markdown",
   "metadata": {},
   "source": [
    "How many sources were left this time? What are their ZTF names?"
   ]
  },
  {
   "cell_type": "code",
   "execution_count": null,
   "metadata": {
    "collapsed": false
   },
   "outputs": [],
   "source": [
    "count = 0\n",
    "for f in files:\n",
    "    with open(f, 'rb') as fo:\n",
    "        reader = fastavro.reader(fo)\n",
    "        candidate = next(reader, None)\n",
    "        result = supernovae(candidate)\n",
    "        if result:\n",
    "            print('%s passed the filter' %candidate['objectId'])\n",
    "            count += 1\n",
    "print(\"%s candidates passed the filter\" %count)"
   ]
  },
  {
   "cell_type": "markdown",
   "metadata": {},
   "source": [
    "What other criteria can you come up with?"
   ]
  },
  {
   "cell_type": "code",
   "execution_count": null,
   "metadata": {
    "collapsed": true
   },
   "outputs": [],
   "source": []
  }
 ],
 "metadata": {
  "kernelspec": {
   "display_name": "Python 3",
   "language": "python",
   "name": "python3"
  },
  "language_info": {
   "codemirror_mode": {
    "name": "ipython",
    "version": 3
   },
   "file_extension": ".py",
   "mimetype": "text/x-python",
   "name": "python",
   "nbconvert_exporter": "python",
   "pygments_lexer": "ipython3",
   "version": "3.5.1"
  }
 },
 "nbformat": 4,
 "nbformat_minor": 2
}
