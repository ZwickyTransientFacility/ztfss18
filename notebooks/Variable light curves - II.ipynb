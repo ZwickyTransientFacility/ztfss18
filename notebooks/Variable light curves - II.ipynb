{
 "cells": [
  {
   "cell_type": "markdown",
   "metadata": {},
   "source": [
    "## ZTF SS 2018\n",
    "## ZTF MSIP alerts cross-matched with a set of CRTS transients\n",
    "## Ashish Mahabal\n",
    "## Dmitry Duev\n",
    "\n",
    "We took about 1200 historic transients from CRTS and cross matched them with ZTF MSIP data.\n",
    "The \"transients\" are by virtue of their jump in brightness, and include:\n",
    "supernovae, AGN, but also CVs, RR Lyrae etc.\n",
    "\n",
    "The resulting set of alerts is made available as a json file: CRTStrans_ZTFMSIP.json\n",
    "It is about 200 MB\n",
    "\n",
    "You can use the same environment you used yesterday for this exercise"
   ]
  },
  {
   "cell_type": "markdown",
   "metadata": {},
   "source": [
    "### Read in the json file\n",
    "### Pull the file from http://www.astro.caltech.edu/~aam/datasets/CRTStrans_ZTFMSIP.json"
   ]
  },
  {
   "cell_type": "code",
   "execution_count": 4,
   "metadata": {},
   "outputs": [],
   "source": [
    "import json\n",
    "json_data=open('CRTStrans_ZTFMSIP.json').read()\n",
    "#json_data=open('../data/CRTStrans_ZTFMSIP.json').read()\n",
    "alerts = json.loads(json_data)"
   ]
  },
  {
   "cell_type": "markdown",
   "metadata": {},
   "source": [
    "### The meat is inside alerts['query_result']\n",
    "### Count how many alerts there are"
   ]
  },
  {
   "cell_type": "code",
   "execution_count": null,
   "metadata": {},
   "outputs": [],
   "source": [
    "len(alerts['query_result'])"
   ]
  },
  {
   "cell_type": "markdown",
   "metadata": {},
   "source": [
    "Display the first one"
   ]
  },
  {
   "cell_type": "code",
   "execution_count": null,
   "metadata": {},
   "outputs": [],
   "source": [
    "print(alerts['query_result'][0]['candidate'])"
   ]
  },
  {
   "cell_type": "markdown",
   "metadata": {},
   "source": [
    "### Look at the previous detection it lists (its history)"
   ]
  },
  {
   "cell_type": "code",
   "execution_count": null,
   "metadata": {},
   "outputs": [],
   "source": [
    "print(alerts['query_result'][0]['prv_candidates'])"
   ]
  },
  {
   "cell_type": "code",
   "execution_count": 26,
   "metadata": {},
   "outputs": [
    {
     "name": "stdout",
     "output_type": "stream",
     "text": [
      "{'jd': 2458198.9541551, 'fid': 2, 'pid': 444454150215, 'diffmaglim': 20.53495216369629, 'pdiffimfilename': 'ztf_20180321454144_000680_zr_c01_o_q3_scimrefdiffimg.fits', 'programpi': 'Kulkarni', 'programid': 1, 'candid': 444454150215015000, 'isdiffpos': 't', 'tblid': 0, 'nid': 444, 'rcid': 2, 'field': 680, 'xpos': 54.134498596191406, 'ypos': 333.4768981933594, 'ra': 254.336686, 'dec': 30.3575442, 'magpsf': 14.80449390411377, 'sigmapsf': 0.006731338333338499, 'chipsf': 374.9363098144531, 'magap': 14.758399963378906, 'sigmagap': 0.005799999926239252, 'distnr': 0.26898565888404846, 'magnr': 13.379999160766602, 'sigmagnr': 0.01600000075995922, 'chinr': 0.847000002861023, 'sharpnr': 0.00800000037997961, 'sky': 0.7437766790390015, 'magdiff': -0.04609430208802223, 'fwhm': 3.2799999713897705, 'classtar': 1.0, 'mindtoedge': 54.134498596191406, 'magfromlim': 5.776552200317383, 'seeratio': 0.7577081322669983, 'aimage': 0.7260000109672546, 'bimage': 0.6510000228881836, 'aimagerat': 0.22134146094322205, 'bimagerat': 0.19847561419010162, 'elong': 1.115207314491272, 'nneg': 4, 'nbad': 0, 'rb': 0.2800000011920929, 'ssdistnr': -999.0, 'ssmagnr': -999.0, 'ssnamenr': 'null', 'sumrat': 0.9658758044242859, 'magapbig': 14.726099967956543, 'sigmagapbig': 0.006099999882280827, 'ranr': 254.336747, 'decnr': 30.3576001, 'sgmag1': 13.726799964904785, 'srmag1': 13.463000297546387, 'simag1': 13.293000221252441, 'szmag1': 13.217000007629395, 'sgscore1': 0.0, 'distpsnr1': 0.20764322578907013, 'ndethist': 2, 'ncovhist': 14, 'jdstarthist': 2458198.8936574, 'jdendhist': 2458198.9541551, 'scorr': 12.5019559860229, 'tooflag': 0, 'objectidps1': 144422543367629662, 'objectidps2': 144422543328618297, 'sgmag2': 21.62980079650879, 'srmag2': 20.896099090576172, 'simag2': 20.39069938659668, 'szmag2': 20.25670051574707, 'sgscore2': 0.0, 'distpsnr2': 12.527521133422852, 'objectidps3': 144432543411510606, 'sgmag3': 19.396499633789062, 'srmag3': 18.175199508666992, 'simag3': 16.959999084472656, 'szmag3': 16.4153995513916, 'sgscore3': 1.0, 'distpsnr3': 14.067994117736816, 'nmtchps': 9}\n"
     ]
    }
   ],
   "source": [
    "print(alerts['query_result'][1]['candidate'])\n"
   ]
  },
  {
   "cell_type": "code",
   "execution_count": 27,
   "metadata": {},
   "outputs": [
    {
     "name": "stdout",
     "output_type": "stream",
     "text": [
      "[{'jd': 2458197.9219213, 'fid': 2, 'pid': 443421920215, 'diffmaglim': 18.915000915527344, 'pdiffimfilename': '/ztf/archive/sci/2018/0320/421921/ztf_20180320421921_000680_zr_c01_o_q3_scimrefdiffimg.fits.fz', 'programpi': 'Kulkarni', 'programid': 2, 'candid': None, 'isdiffpos': None, 'tblid': None, 'nid': None, 'rcid': None, 'field': None, 'xpos': None, 'ypos': None, 'ra': None, 'dec': None, 'magpsf': None, 'sigmapsf': None, 'chipsf': None, 'magap': None, 'sigmagap': None, 'distnr': None, 'magnr': None, 'sigmagnr': None, 'chinr': None, 'sharpnr': None, 'sky': None, 'magdiff': None, 'fwhm': None, 'classtar': None, 'mindtoedge': None, 'magfromlim': None, 'seeratio': None, 'aimage': None, 'bimage': None, 'aimagerat': None, 'bimagerat': None, 'elong': None, 'nneg': None, 'nbad': None, 'rb': None, 'ssdistnr': None, 'ssmagnr': None, 'ssnamenr': None, 'sumrat': None, 'magapbig': None, 'sigmagapbig': None, 'ranr': None, 'decnr': None, 'scorr': None}, {'jd': 2458197.9575, 'fid': 2, 'pid': 443457490215, 'diffmaglim': 19.700899124145508, 'pdiffimfilename': '/ztf/archive/sci/2018/0320/457488/ztf_20180320457488_000680_zr_c01_o_q3_scimrefdiffimg.fits.fz', 'programpi': 'Kulkarni', 'programid': 2, 'candid': None, 'isdiffpos': None, 'tblid': None, 'nid': None, 'rcid': None, 'field': None, 'xpos': None, 'ypos': None, 'ra': None, 'dec': None, 'magpsf': None, 'sigmapsf': None, 'chipsf': None, 'magap': None, 'sigmagap': None, 'distnr': None, 'magnr': None, 'sigmagnr': None, 'chinr': None, 'sharpnr': None, 'sky': None, 'magdiff': None, 'fwhm': None, 'classtar': None, 'mindtoedge': None, 'magfromlim': None, 'seeratio': None, 'aimage': None, 'bimage': None, 'aimagerat': None, 'bimagerat': None, 'elong': None, 'nneg': None, 'nbad': None, 'rb': None, 'ssdistnr': None, 'ssmagnr': None, 'ssnamenr': None, 'sumrat': None, 'magapbig': None, 'sigmagapbig': None, 'ranr': None, 'decnr': None, 'scorr': None}, {'jd': 2458197.9642014, 'fid': 2, 'pid': 443464200215, 'diffmaglim': 20.715900421142578, 'pdiffimfilename': '/ztf/archive/sci/2018/0320/464178/ztf_20180320464178_000680_zr_c01_o_q3_scimrefdiffimg.fits.fz', 'programpi': 'Kulkarni', 'programid': 2, 'candid': None, 'isdiffpos': None, 'tblid': None, 'nid': None, 'rcid': None, 'field': None, 'xpos': None, 'ypos': None, 'ra': None, 'dec': None, 'magpsf': None, 'sigmapsf': None, 'chipsf': None, 'magap': None, 'sigmagap': None, 'distnr': None, 'magnr': None, 'sigmagnr': None, 'chinr': None, 'sharpnr': None, 'sky': None, 'magdiff': None, 'fwhm': None, 'classtar': None, 'mindtoedge': None, 'magfromlim': None, 'seeratio': None, 'aimage': None, 'bimage': None, 'aimagerat': None, 'bimagerat': None, 'elong': None, 'nneg': None, 'nbad': None, 'rb': None, 'ssdistnr': None, 'ssmagnr': None, 'ssnamenr': None, 'sumrat': None, 'magapbig': None, 'sigmagapbig': None, 'ranr': None, 'decnr': None, 'scorr': None}, {'jd': 2458198.0087153, 'fid': 2, 'pid': 443508710215, 'diffmaglim': 18.661699295043945, 'pdiffimfilename': '/ztf/archive/sci/2018/0320/508692/ztf_20180320508692_000680_zr_c01_o_q3_scimrefdiffimg.fits.fz', 'programpi': 'Kulkarni', 'programid': 2, 'candid': None, 'isdiffpos': None, 'tblid': None, 'nid': None, 'rcid': None, 'field': None, 'xpos': None, 'ypos': None, 'ra': None, 'dec': None, 'magpsf': None, 'sigmapsf': None, 'chipsf': None, 'magap': None, 'sigmagap': None, 'distnr': None, 'magnr': None, 'sigmagnr': None, 'chinr': None, 'sharpnr': None, 'sky': None, 'magdiff': None, 'fwhm': None, 'classtar': None, 'mindtoedge': None, 'magfromlim': None, 'seeratio': None, 'aimage': None, 'bimage': None, 'aimagerat': None, 'bimagerat': None, 'elong': None, 'nneg': None, 'nbad': None, 'rb': None, 'ssdistnr': None, 'ssmagnr': None, 'ssnamenr': None, 'sumrat': None, 'magapbig': None, 'sigmagapbig': None, 'ranr': None, 'decnr': None, 'scorr': None}, {'jd': 2458198.8936574, 'fid': 2, 'pid': 444393650215, 'diffmaglim': 20.403900146484375, 'pdiffimfilename': '/ztf/archive/sci/2018/0321/393634/ztf_20180321393634_000680_zr_c01_o_q3_scimrefdiffimg.fits.fz', 'programpi': 'Kulkarni', 'programid': 2, 'candid': 444393650215015000, 'isdiffpos': '1', 'tblid': 0, 'nid': 444, 'rcid': 2, 'field': 680, 'xpos': 48.146400451660156, 'ypos': 312.47601318359375, 'ra': 254.3367195, 'dec': 30.357568, 'magpsf': 13.998299598693848, 'sigmapsf': 0.0033970000222325325, 'chipsf': 1026.739990234375, 'magap': 13.955499649047852, 'sigmagap': 0.0031999999191612005, 'distnr': 0.1404229998588562, 'magnr': 13.380000114440918, 'sigmagnr': 0.01600000075995922, 'chinr': 0.847000002861023, 'sharpnr': 0.00800000037997961, 'sky': 0.6908090114593506, 'magdiff': -0.04275200143456459, 'fwhm': 3.809999942779541, 'classtar': 0.9980000257492065, 'mindtoedge': 48.146400451660156, 'magfromlim': 6.448440074920654, 'seeratio': 0.6726639866828918, 'aimage': 0.800000011920929, 'bimage': 0.7260000109672546, 'aimagerat': 0.209974005818367, 'bimagerat': 0.1905509978532791, 'elong': 1.101930022239685, 'nneg': 2, 'nbad': 0, 'rb': 0.2633329927921295, 'ssdistnr': None, 'ssmagnr': None, 'ssnamenr': None, 'sumrat': 1.0, 'magapbig': 13.90060043334961, 'sigmagapbig': 0.0032999999821186066, 'ranr': 254.336747, 'decnr': 30.3576001, 'scorr': 47.1454}, {'jd': 2458198.9346065, 'fid': 2, 'pid': 444434600215, 'diffmaglim': 20.536100387573242, 'pdiffimfilename': '/ztf/archive/sci/2018/0321/434606/ztf_20180321434606_000680_zr_c01_o_q3_scimrefdiffimg.fits.fz', 'programpi': 'Kulkarni', 'programid': 2, 'candid': None, 'isdiffpos': None, 'tblid': None, 'nid': None, 'rcid': None, 'field': None, 'xpos': None, 'ypos': None, 'ra': None, 'dec': None, 'magpsf': None, 'sigmapsf': None, 'chipsf': None, 'magap': None, 'sigmagap': None, 'distnr': None, 'magnr': None, 'sigmagnr': None, 'chinr': None, 'sharpnr': None, 'sky': None, 'magdiff': None, 'fwhm': None, 'classtar': None, 'mindtoedge': None, 'magfromlim': None, 'seeratio': None, 'aimage': None, 'bimage': None, 'aimagerat': None, 'bimagerat': None, 'elong': None, 'nneg': None, 'nbad': None, 'rb': None, 'ssdistnr': None, 'ssmagnr': None, 'ssnamenr': None, 'sumrat': None, 'magapbig': None, 'sigmagapbig': None, 'ranr': None, 'decnr': None, 'scorr': None}]\n"
     ]
    }
   ],
   "source": [
    "print(alerts['query_result'][1]['prv_candidates'])"
   ]
  },
  {
   "cell_type": "markdown",
   "metadata": {},
   "source": [
    "### Count how many previous detections it has"
   ]
  },
  {
   "cell_type": "code",
   "execution_count": 28,
   "metadata": {},
   "outputs": [
    {
     "data": {
      "text/plain": [
       "6"
      ]
     },
     "execution_count": 28,
     "metadata": {},
     "output_type": "execute_result"
    }
   ],
   "source": [
    "len(alerts['query_result'][1]['prv_candidates'])"
   ]
  },
  {
   "cell_type": "markdown",
   "metadata": {},
   "source": [
    "### Check the schema of the first one"
   ]
  },
  {
   "cell_type": "code",
   "execution_count": 29,
   "metadata": {},
   "outputs": [
    {
     "data": {
      "text/plain": [
       "{'aimage': None,\n",
       " 'aimagerat': None,\n",
       " 'bimage': None,\n",
       " 'bimagerat': None,\n",
       " 'candid': None,\n",
       " 'chinr': None,\n",
       " 'chipsf': None,\n",
       " 'classtar': None,\n",
       " 'dec': None,\n",
       " 'decnr': None,\n",
       " 'diffmaglim': 18.915000915527344,\n",
       " 'distnr': None,\n",
       " 'elong': None,\n",
       " 'fid': 2,\n",
       " 'field': None,\n",
       " 'fwhm': None,\n",
       " 'isdiffpos': None,\n",
       " 'jd': 2458197.9219213,\n",
       " 'magap': None,\n",
       " 'magapbig': None,\n",
       " 'magdiff': None,\n",
       " 'magfromlim': None,\n",
       " 'magnr': None,\n",
       " 'magpsf': None,\n",
       " 'mindtoedge': None,\n",
       " 'nbad': None,\n",
       " 'nid': None,\n",
       " 'nneg': None,\n",
       " 'pdiffimfilename': '/ztf/archive/sci/2018/0320/421921/ztf_20180320421921_000680_zr_c01_o_q3_scimrefdiffimg.fits.fz',\n",
       " 'pid': 443421920215,\n",
       " 'programid': 2,\n",
       " 'programpi': 'Kulkarni',\n",
       " 'ra': None,\n",
       " 'ranr': None,\n",
       " 'rb': None,\n",
       " 'rcid': None,\n",
       " 'scorr': None,\n",
       " 'seeratio': None,\n",
       " 'sharpnr': None,\n",
       " 'sigmagap': None,\n",
       " 'sigmagapbig': None,\n",
       " 'sigmagnr': None,\n",
       " 'sigmapsf': None,\n",
       " 'sky': None,\n",
       " 'ssdistnr': None,\n",
       " 'ssmagnr': None,\n",
       " 'ssnamenr': None,\n",
       " 'sumrat': None,\n",
       " 'tblid': None,\n",
       " 'xpos': None,\n",
       " 'ypos': None}"
      ]
     },
     "execution_count": 29,
     "metadata": {},
     "output_type": "execute_result"
    }
   ],
   "source": [
    "alerts['query_result'][1]['prv_candidates'][0]"
   ]
  },
  {
   "cell_type": "markdown",
   "metadata": {},
   "source": [
    "### Print mags for all and build a light curve\n",
    "### Are they all detections?"
   ]
  },
  {
   "cell_type": "code",
   "execution_count": 38,
   "metadata": {},
   "outputs": [
    {
     "name": "stdout",
     "output_type": "stream",
     "text": [
      "2458197.9219213 None 18.915000915527344\n",
      "2458197.9575 None 19.700899124145508\n",
      "2458197.9642014 None 20.715900421142578\n",
      "2458198.0087153 None 18.661699295043945\n",
      "2458198.8936574 13.998299598693848 20.403900146484375\n",
      "2458198.9346065 None 20.536100387573242\n"
     ]
    }
   ],
   "source": [
    "for histpoint in range(len(alerts['query_result'][1]['prv_candidates'])):\n",
    "    print(alerts['query_result'][1]['prv_candidates'][histpoint]['jd'],alerts['query_result'][1]['prv_candidates'][histpoint]['magpsf'],alerts['query_result'][1]['prv_candidates'][histpoint]['diffmaglim'])"
   ]
  },
  {
   "cell_type": "markdown",
   "metadata": {},
   "source": [
    "### What is the latest magnitude?"
   ]
  },
  {
   "cell_type": "code",
   "execution_count": 41,
   "metadata": {},
   "outputs": [
    {
     "name": "stdout",
     "output_type": "stream",
     "text": [
      "2458198.9541551 14.80449390411377\n"
     ]
    }
   ],
   "source": [
    "print(alerts['query_result'][1]['candidate']['jd'],alerts['query_result'][1]['candidate']['magpsf'])"
   ]
  },
  {
   "cell_type": "markdown",
   "metadata": {},
   "source": [
    "### What is the id?"
   ]
  },
  {
   "cell_type": "code",
   "execution_count": 46,
   "metadata": {},
   "outputs": [
    {
     "name": "stdout",
     "output_type": "stream",
     "text": [
      "ZTF18aagrdql\n"
     ]
    }
   ],
   "source": [
    "print(alerts['query_result'][1]['objectId'])"
   ]
  },
  {
   "cell_type": "code",
   "execution_count": 47,
   "metadata": {},
   "outputs": [
    {
     "data": {
      "text/plain": [
       "2399"
      ]
     },
     "execution_count": 47,
     "metadata": {},
     "output_type": "execute_result"
    }
   ],
   "source": [
    "len(alerts['query_result'])"
   ]
  },
  {
   "cell_type": "markdown",
   "metadata": {},
   "source": [
    "### The n alerts we found -- how many unique ids do they share?\n",
    "### and what are their lengths?"
   ]
  },
  {
   "cell_type": "code",
   "execution_count": 48,
   "metadata": {},
   "outputs": [
    {
     "name": "stdout",
     "output_type": "stream",
     "text": [
      "{'ZTF18aabvkix': 10, 'ZTF18aagrdql': 28, 'ZTF18aabpzil': 31, 'ZTF18aaavrvw': 21, 'ZTF18aabeetp': 32, 'ZTF18aabpwuz': 7, 'ZTF18aaavscg': 35, 'ZTF18aabeeuj': 15, 'ZTF18aagshaj': 13, 'ZTF18aagseld': 26, 'ZTF18aagrcgt': 33, 'ZTF18aagsgqc': 7, 'ZTF18aabpshs': 36, 'ZTF18aaavscy': 29, 'ZTF18aaavscv': 25, 'ZTF18aagsgkv': 15, 'ZTF18aagsenq': 84, 'ZTF18aagtdiw': 28, 'ZTF18aaguzyg': 14, 'ZTF18aagxess': 21, 'ZTF18aagrdzx': 26, 'ZTF18aagrhbf': 48, 'ZTF18aagrdoz': 34, 'ZTF18aaavxnm': 23, 'ZTF18aaapjfq': 3, 'ZTF17aadewid': 8, 'ZTF17aabnzdk': 8, 'ZTF18aabhqnr': 3, 'ZTF17aaapmlh': 6, 'ZTF18aaheokz': 4, 'ZTF17aabujji': 5, 'ZTF18aaackeh': 5, 'ZTF18aaajvpp': 9, 'ZTF18aaacsym': 6, 'ZTF18aaadlpa': 7, 'ZTF17aaaitrs': 5, 'ZTF17aaajfbk': 5, 'ZTF18aaaqvfx': 8, 'ZTF17aacksni': 8, 'ZTF17aabwnrh': 8, 'ZTF18aahfzdt': 11, 'ZTF18aabkuvx': 10, 'ZTF17aabwnqz': 9, 'ZTF17aabwoct': 25, 'ZTF17aabukcb': 18, 'ZTF18aaacxbj': 13, 'ZTF18aahlzij': 12, 'ZTF18aahnqdi': 2, 'ZTF18aagpyca': 4, 'ZTF18aaatlxd': 5, 'ZTF18aaaqgtp': 13, 'ZTF17aacmcqv': 8, 'ZTF17aacqdtj': 3, 'ZTF17aabtnet': 6, 'ZTF18aabopru': 10, 'ZTF18aaaxler': 7, 'ZTF18aabknvq': 18, 'ZTF17aacngbo': 12, 'ZTF18aaadmzu': 4, 'ZTF17aacnuce': 13, 'ZTF18aabdvzk': 16, 'ZTF18aabkufg': 3, 'ZTF18aabtstx': 26, 'ZTF18aahvhue': 8, 'ZTF18aaaofqy': 11, 'ZTF18aaakbtj': 10, 'ZTF18aagrchq': 36, 'ZTF18aabonhr': 1, 'ZTF17aaajkvu': 20, 'ZTF18aaajenf': 10, 'ZTF18aahiply': 12, 'ZTF18aajbaqx': 3, 'ZTF18aaijvcd': 52, 'ZTF18aabtugq': 60, 'ZTF18aabszen': 3, 'ZTF18aaaqvuc': 8, 'ZTF18aajioxt': 1, 'ZTF18aaitbkt': 23, 'ZTF18aabpwrg': 6, 'ZTF18aaiujyn': 29, 'ZTF18aagwfli': 22, 'ZTF18aajdrtn': 18, 'ZTF18aajrtzi': 26, 'ZTF18aajsbbe': 33, 'ZTF18aajsgik': 32, 'ZTF18aajwgru': 1, 'ZTF18aakalgo': 4, 'ZTF18aaaqvuj': 3, 'ZTF18aaadpzx': 9, 'ZTF18aairtug': 44, 'ZTF18aakfczk': 21, 'ZTF18aajlfnm': 24, 'ZTF18aakltwe': 17, 'ZTF18aaixeul': 30, 'ZTF18aakgjhf': 25, 'ZTF18aakgqwx': 28, 'ZTF18aakgpiy': 13, 'ZTF18aajrzvj': 35, 'ZTF18aakvnlw': 7, 'ZTF18aakylgr': 23, 'ZTF18aakgvsk': 15, 'ZTF18aalafrn': 1, 'ZTF18aakznzj': 18, 'ZTF17aaahyqe': 4, 'ZTF17aadpvbz': 2, 'ZTF18aaeuivv': 2, 'ZTF17aacldol': 7, 'ZTF18aaaujae': 18, 'ZTF18aamfsaq': 8, 'ZTF18aamfuex': 11, 'ZTF18aaltcsw': 28, 'ZTF18aaltqbj': 2, 'ZTF18aalarzm': 22, 'ZTF18aamnzyd': 1, 'ZTF18aajovyn': 17, 'ZTF18aaorzfl': 1, 'ZTF18aaosguh': 3, 'ZTF18aaotyym': 8, 'ZTF18aapgjgp': 1, 'ZTF18aanhfnc': 25, 'ZTF17aacneat': 2, 'ZTF18aaputbn': 3, 'ZTF18aakyhpv': 18, 'ZTF18aapyquq': 7, 'ZTF18aapvgdh': 5, 'ZTF18aaqepuc': 4, 'ZTF18aaqiutu': 1, 'ZTF17aadchyn': 1, 'ZTF18aaqjfit': 1, 'ZTF18aaqnqvg': 12, 'ZTF18aaqphdi': 1, 'ZTF18aabhoje': 1, 'ZTF18aabjmfc': 4, 'ZTF18aabjlqn': 9, 'ZTF18aaqkfst': 4, 'ZTF18aakieje': 3, 'ZTF18aakyhyn': 3, 'ZTF18aastsgb': 3, 'ZTF18aasuwrv': 15, 'ZTF18aaaofqk': 12, 'ZTF18aaigoth': 12, 'ZTF18aasyauw': 7, 'ZTF17aadgloo': 1, 'ZTF18aatbxkl': 7, 'ZTF18aatziuj': 7, 'ZTF18aaoeekf': 22, 'ZTF18aatfqgi': 10, 'ZTF18aaomiig': 18, 'ZTF18aaumdji': 14, 'ZTF18aauthvl': 4, 'ZTF18aauymtv': 8, 'ZTF18aauylvz': 21, 'ZTF18aatochf': 4, 'ZTF18aavskto': 2, 'ZTF18aavskxm': 3, 'ZTF18aabpwwa': 3, 'ZTF18aawfsmy': 2, 'ZTF18aawfsmz': 3, 'ZTF18aawhpit': 14, 'ZTF18aawqkva': 1, 'ZTF18aawoebe': 3, 'ZTF18aaxmrjb': 2, 'ZTF18aaxtcfb': 2, 'ZTF18aavzslb': 5, 'ZTF18aayfrdi': 5, 'ZTF18aaylrvm': 3, 'ZTF18aaylsmo': 6, 'ZTF18aayzpbr': 15, 'ZTF18aavjnxp': 4, 'ZTF18aazijyo': 1, 'ZTF18abadjtv': 5, 'ZTF18aazhxap': 5, 'ZTF18abafbqd': 4, 'ZTF18abagunn': 4, 'ZTF18aabkdqk': 1, 'ZTF18abavrhi': 7, 'ZTF18abaxueg': 18, 'ZTF18abbpxse': 3, 'ZTF18abajxhd': 6, 'ZTF18abccpgm': 4, 'ZTF17aabxjfk': 7, 'ZTF18aaaolqx': 1, 'ZTF18abceikt': 2, 'ZTF18abcigof': 2, 'ZTF18aavjoky': 6, 'ZTF18abcosbw': 8, 'ZTF18abajxby': 5, 'ZTF18abcoxqa': 4, 'ZTF18abcoyrf': 4, 'ZTF18abcoywh': 6, 'ZTF18abcphec': 9, 'ZTF18abcphee': 1, 'ZTF18abcpppm': 2, 'ZTF18aaqkdgc': 1, 'ZTF18abcvuvr': 5, 'ZTF18abctzky': 5, 'ZTF18abcnncc': 7, 'ZTF18abcyuem': 4, 'ZTF18abdcait': 2, 'ZTF18aamohec': 1, 'ZTF18abdeyfp': 2, 'ZTF18abdeyfz': 6, 'ZTF18abdeymj': 5, 'ZTF18abdeyqm': 3, 'ZTF18abdfgxe': 5, 'ZTF18abdgdjv': 1, 'ZTF18aberays': 2, 'ZTF18abesoyi': 2, 'ZTF18abespad': 1, 'ZTF18abesovb': 3, 'ZTF18abetddh': 4, 'ZTF18abetdej': 1, 'ZTF18abddnke': 1, 'ZTF18abfyvlc': 4, 'ZTF18abfyzmf': 6, 'ZTF18abfzzuo': 1, 'ZTF18abgcomb': 1, 'ZTF18abglexw': 1, 'ZTF18abhgihb': 1, 'ZTF18abheojp': 2, 'ZTF18abgrzbs': 1}\n"
     ]
    }
   ],
   "source": [
    "ids = {}\n",
    "for a in alerts['query_result']:\n",
    "    id = a['objectId']\n",
    "    if id in ids: \n",
    "        ids[id] = ids[id]+1\n",
    "    else:\n",
    "        ids[id] = 1\n",
    "        \n",
    "print(ids)"
   ]
  },
  {
   "cell_type": "code",
   "execution_count": 49,
   "metadata": {},
   "outputs": [
    {
     "data": {
      "text/plain": [
       "221"
      ]
     },
     "execution_count": 49,
     "metadata": {},
     "output_type": "execute_result"
    }
   ],
   "source": [
    "len(ids)"
   ]
  },
  {
   "cell_type": "markdown",
   "metadata": {},
   "source": [
    "### Exercise 1: Combine histories for all alerts of the same id and build a light curve"
   ]
  },
  {
   "cell_type": "markdown",
   "metadata": {},
   "source": [
    "### Exercise 2: Select the subset which has at least 20 detections\n",
    "### Extract a few basic statistical features for them (mean, median, amplitude, skew, ...)\n",
    "### Do some basic classification using decision trees, or RF"
   ]
  },
  {
   "cell_type": "markdown",
   "metadata": {},
   "source": [
    "### Exercise 3: Get periods for the objects"
   ]
  },
  {
   "cell_type": "markdown",
   "metadata": {},
   "source": [
    "### How did you handle the different filters?"
   ]
  }
 ],
 "metadata": {
  "kernelspec": {
   "display_name": "Python 3",
   "language": "python",
   "name": "python3"
  },
  "language_info": {
   "codemirror_mode": {
    "name": "ipython",
    "version": 3
   },
   "file_extension": ".py",
   "mimetype": "text/x-python",
   "name": "python",
   "nbconvert_exporter": "python",
   "pygments_lexer": "ipython3",
   "version": "3.6.4"
  }
 },
 "nbformat": 4,
 "nbformat_minor": 2
}
