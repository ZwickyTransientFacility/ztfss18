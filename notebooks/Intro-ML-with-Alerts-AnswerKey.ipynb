{
 "cells": [
  {
   "cell_type": "markdown",
   "metadata": {},
   "source": [
    "# Introduction to Machine Learning with Alerts\n",
    "\n",
    "The objective of this hands-on activity is to create and evaluate a Real-Bogus classifier using ZTF alert data.  You will be provided with a curated set of data which has already been labeled via the marshalls and the zooniverse website.  In this exercise, you will:\n",
    "\n",
    "1. Load data\n",
    "2. Examine and select features\n",
    "3. Curate a test and training set\n",
    "4. Train a machine learned classifier\n",
    "5. Compare the performance of different learning algorithms\n",
    "6. [ optional ] experiment with alternate feature selections and compare performance\n",
    "7. [ optional ] label additional examples and incorporate into training set\n",
    "\n",
    "#### What's Not Covered\n",
    "\n",
    "There are many topics to cover, and due to time constraints, we cannot cover them all.  Omitted is a discussion of [cross validation](http://scikit-learn.org/stable/modules/cross_validation.html) and [hyperparameter tuning](http://scikit-learn.org/stable/modules/grid_search.html).  I encourage you to click through and read those articles by sklearn."
   ]
  },
  {
   "cell_type": "markdown",
   "metadata": {},
   "source": [
    "## 1. Load Data\n",
    "\n",
    "Visit the [ZTFSS github repo](https://github.com/ZwickyTransientFacility/ztfss18/tree/master/data) to retrieve the file labeled *labeled.npy*.  This file contains data that has been labeled either 0 (BOGUS) or 1 (REAL).  The final column in the npy file contains label.\n",
    "\n",
    "The columns of the *labeled.npy* are:\n",
    "\n",
    "[ magpsf, sigmapsf, chipsf, magap, sigmagap, magapbig, sigmagapbig, sky, magdiff, fwhm, classtar, mindtoedge, magfromlim, seeratio, aimage, bimage, aimagerat, bimagerat, elong, nneg, nbad, sumrat, distnr, magnr, sigmagnr, chinr, sharpnr, ranr, decnr, ssdistnr, ssmagnr, scorr, scimaglim, refmaglim, zpmaginpsci, zpmaginpsciunc, zpdiff, zpref, fluxrat, scigain, scisat, scibckgnd, scisigpix, sciinpseeing, refsat, refbckgnd, refsigpix, refinpseeing, pdiffbckgnd, ndiffbckgnd, diffsigpix, diffnbadpixbef, diffnbadpixaft, diffpctbad, diffmaglim, difffwhm, difnumnoisepix, diffavgsqbef, diffavgsqaft, diffavgsqchg, diffavgchisqaft, infobitssci, infobitsref, ncandscimrefraw, ncandscimreffilt, ncandrefmsciraw, ncandrefmscifilt, status] \n",
    "\n"
   ]
  },
  {
   "cell_type": "code",
   "execution_count": 1,
   "metadata": {},
   "outputs": [
    {
     "name": "stdout",
     "output_type": "stream",
     "text": [
      "(17321, 69)\n",
      "68\n",
      "Number of Real Examples: 6146\n",
      "Number of Bogus Examples: 11175\n"
     ]
    }
   ],
   "source": [
    "import numpy as np\n",
    "dat = np.load('../data/ml-alerts/labeled.npy')\n",
    "\n",
    "COL_NAMES = [\"magpsf\", \"sigmapsf\", \"chipsf\", \"magap\", \"sigmagap\", \"magapbig\", \"sigmagapbig\", \"sky\", \n",
    "            \"magdiff\", \"fwhm\", \"classtar\", \"mindtoedge\", \"magfromlim\", \"seeratio\", \"aimage\", \"bimage\", \n",
    "            \"aimagerat\", \"bimagerat\", \"elong\", \"nneg\", \"nbad\", \"sumrat\", \"distnr\", \"magnr\", \"sigmagnr\", \n",
    "            \"chinr\", \"sharpnr\", \"ranr\", \"decnr\", \"ssdistnr\", \"ssmagnr\", \"scorr\", \"scimaglim\", \"refmaglim\", \n",
    "            \"zpmaginpsci\", \"zpmaginpsciunc\", \"zpdiff\", \"zpref\", \"fluxrat\", \"scigain\", \"scisat\", \"scibckgnd\", \n",
    "            \"scisigpix\", \"sciinpseeing\", \"refsat\", \"refbckgnd\", \"refsigpix\", \"refinpseeing\", \"pdiffbckgnd\", \n",
    "            \"ndiffbckgnd\", \"diffsigpix\", \"diffnbadpixbef\", \"diffnbadpixaft\", \"diffpctbad\", \"diffmaglim\", \n",
    "            \"difffwhm\", \"difnumnoisepix\", \"diffavgsqbef\", \"diffavgsqaft\", \"diffavgsqchg\", \"diffavgchisqaft\", \n",
    "            \"infobitssci\", \"infobitsref\", \"ncandscimrefraw\", \"ncandscimreffilt\", \"ncandrefmsciraw\", \n",
    "            \"ncandrefmscifilt\", \"status\"]\n",
    "             \n",
    "# INSTRUCTION: Verify that the shape of the data is the number of COL_NAMES + 1\n",
    "#\n",
    "print(dat.shape)\n",
    "print(len(COL_NAMES))\n",
    "if dat.shape[1] != (len(COL_NAMES) + 1):\n",
    "    print(\"ERROR!  Number of columns in labeled.npy != len(COL_NAMES) + 1\")\n",
    "    \n",
    "    \n",
    "# INSTRUCTION: How many real and bogus examples are in this labeled set\n",
    "#\n",
    "real_mask = dat[:,-1] == 1\n",
    "bogus_mask = ~real_mask\n",
    "print(\"Number of Real Examples: {}\".format(np.sum(real_mask)))\n",
    "print(\"Number of Bogus Examples: {}\".format(np.sum(bogus_mask)))"
   ]
  },
  {
   "cell_type": "markdown",
   "metadata": {},
   "source": [
    "## 2. Select Features\n",
    "\n",
    "While it may be tempting to use all features provided, some of the features may not be relevant to the concept of discriminating between real and bogus sources. \n",
    "\n",
    "The columns of the *labeled.npy* are:\n",
    "\n",
    "[ magpsf, sigmapsf, chipsf, magap, sigmagap, magapbig, sigmagapbig, sky, magdiff, fwhm, classtar, mindtoedge, magfromlim, seeratio, aimage, bimage, aimagerat, bimagerat, elong, nneg, nbad, sumrat, distnr, magnr, sigmagnr, chinr, sharpnr, ranr, decnr, ssdistnr, ssmagnr, scorr, scimaglim, refmaglim, zpmaginpsci, zpmaginpsciunc, zpdiff, zpref, fluxrat, scigain, scisat, scibckgnd, scisigpix, sciinpseeing, refsat, refbckgnd, refsigpix, refinpseeing, pdiffbckgnd, ndiffbckgnd, diffsigpix, diffnbadpixbef, diffnbadpixaft, diffpctbad, diffmaglim, difffwhm, difnumnoisepix, diffavgsqbef, diffavgsqaft, diffavgsqchg, diffavgchisqaft, infobitssci, infobitsref, ncandscimrefraw, ncandscimreffilt, ncandrefmsciraw, ncandrefmscifilt, status] \n",
    "\n",
    "Any feature related to the zero-point is not relevant (e.g.,  starts with zp*).  Similarly, classstar is a star-galaxy separation score that is considered unreliable. We've removed it.  The following are the list of features we have preserved."
   ]
  },
  {
   "cell_type": "code",
   "execution_count": 2,
   "metadata": {},
   "outputs": [
    {
     "name": "stdout",
     "output_type": "stream",
     "text": [
      "Permutations: [14, 16, 15, 17, 25, 2, 22, 18, 9, 3, 5, 8, 12, 23, 0, 11, 20, 19, 13, 26, 4, 6, 24, 1, 7, 29, 30, 21, 60, 58, 57, 59, 55, 54, 52, 51, 53, 50, 56, 38, 66, 65, 64, 63, 49, 48, 45, 47, 33, 44, 46, 41, 39, 43, 32, 40, 42, 67, 31, 68]\n",
      "dat.shape=(17321, 69)\n",
      "feats_plus_label.shape=(17321, 60)\n"
     ]
    }
   ],
   "source": [
    "featnames = ['aimage', 'aimagerat', 'bimage', 'bimagerat', 'chinr', 'chipsf', \n",
    "             'distnr', 'elong', 'fwhm', 'magap', 'magapbig', 'magdiff', 'magfromlim', \n",
    "             'magnr', 'magpsf', 'mindtoedge', 'nbad', 'nneg', 'seeratio', 'sharpnr', \n",
    "             'sigmagap', 'sigmagapbig', 'sigmagnr', 'sigmapsf', 'sky', 'ssdistnr', \n",
    "             'ssmagnr', 'sumrat', 'diffavgchisqaft', 'diffavgsqaft', 'diffavgsqbef', \n",
    "             'diffavgsqchg', 'difffwhm', 'diffmaglim', 'diffnbadpixaft', 'diffnbadpixbef',\n",
    "             'diffpctbad', 'diffsigpix', 'difnumnoisepix', 'fluxrat', 'ncandrefmscifilt',\n",
    "             'ncandrefmsciraw', 'ncandscimreffilt', 'ncandscimrefraw', 'ndiffbckgnd',\n",
    "             'pdiffbckgnd', 'refbckgnd', 'refinpseeing', 'refmaglim', 'refsat', 'refsigpix',\n",
    "             'scibckgnd', 'scigain', 'sciinpseeing', 'scimaglim', 'scisat', 'scisigpix', 'status', 'scorr']\n",
    "\n",
    "#INSTRUCTION: filter the columns from 'dat' to just contain the features in 'feats', in the order that appears above.\n",
    "#\n",
    "col_permutation = []\n",
    "for name in featnames:\n",
    "    col_permutation.append(COL_NAMES.index(name))\n",
    "col_permutation.append(len(COL_NAMES)) # grab the label column!\n",
    "\n",
    "print(\"Permutations: {}\".format(col_permutation))\n",
    "\n",
    "feats_plus_label = dat[:,col_permutation]\n",
    "\n",
    "print(\"dat.shape={}\".format(dat.shape))\n",
    "print(\"feats_plus_label.shape={}\".format(feats_plus_label.shape))\n",
    "\n",
    "\n"
   ]
  },
  {
   "cell_type": "markdown",
   "metadata": {},
   "source": [
    "## 3. Curate a Test and Training Set\n",
    "\n",
    "We need to reserve some of our labeled data for evaluation.  This means we must split up the labeled data we have into the set used for training (training set), and the set used for evaluation (test set).  Ideally, the distribution of real and bogus examples in both the training and test sets are roughly identical.  One can use [sklearn.model_selection.train_test_split](http://scikit-learn.org/stable/modules/generated/sklearn.model_selection.train_test_split.html) and use the stratify option.  \n",
    "\n",
    "For ZTF data, we split the training and test data by date.  That way repeat observations from the same night (which might be nearly identical) cannot be split into the training and test set, and artificially inflate test performance.  Also, due to the change in survey objectives, it's possible that the test set features have drifted away from the training sets.\n",
    "\n",
    "Provided is *nid.npy* which contains the Night IDs for ZTF.  Split on nid=500 (May 16, 2018).  This should leave you with roughly 500 reals in your test set.\n"
   ]
  },
  {
   "cell_type": "code",
   "execution_count": 3,
   "metadata": {},
   "outputs": [
    {
     "name": "stdout",
     "output_type": "stream",
     "text": [
      "TRAIN Num Real=5589, Bogus=10207\n",
      "TEST Num Real=557, Bogus=968\n"
     ]
    }
   ],
   "source": [
    "nids = np.load('../data/ml-alerts/nid.npy')\n",
    "\n",
    "# INSTRUCTION: nid.npy contains the nids for this labeled data.\n",
    "# Split the data into separate data structures for train/test data at nid=500.\n",
    "# Verify that you have at least 500 reals in your test set.\n",
    "\n",
    "nid_mask_train = nids <= 500\n",
    "nid_mask_test = ~nid_mask_train\n",
    "\n",
    "train_plus_label = feats_plus_label[nid_mask_train,:]\n",
    "test_plus_label = feats_plus_label[nid_mask_test,:]\n",
    "\n",
    "nreals_train = np.sum(train_plus_label[:,-1] == 1)\n",
    "nbogus_train = np.sum(train_plus_label[:,-1] == 0)\n",
    "nreals_test = np.sum(test_plus_label[:,-1] == 1)\n",
    "nbogus_test = np.sum(test_plus_label[:,-1] == 0)\n",
    "\n",
    "\n",
    "print(\"TRAIN Num Real={}, Bogus={}\".format(nreals_train, nbogus_train))    \n",
    "print(\"TEST Num Real={}, Bogus={}\".format(nreals_test, nbogus_test)) "
   ]
  },
  {
   "cell_type": "markdown",
   "metadata": {},
   "source": [
    "## 4. Train a Classifier\n",
    "\n",
    "#### Part 1: Separate Labels from the Features\n",
    "\n",
    "Now store the labels separately from the features.  \n",
    "\n",
    "#### Part 2: Handle Missing Values\n",
    "\n",
    "Almost ready for training.  However, sklearn will throw an error if there are NaN's in the features.  And there are some features (that end with 'nr') that have lots of NaN's.  We will need to replace the \\*nr features with a sentinel value (-999).  Any other features containing NaNs should be subject to median interpolation. Use the [Imputer](http://scikit-learn.org/stable/modules/generated/sklearn.preprocessing.Imputer.html) module from sklearn.  Make this imputation a subroutine, as you'll need to call it separately for the train and test data.  (Why?)\n",
    "\n",
    "Once the imputation is done, we can choose multiple classifiers to train."
   ]
  },
  {
   "cell_type": "code",
   "execution_count": 4,
   "metadata": {},
   "outputs": [],
   "source": [
    "# INSTRUCTION: Separate the labels from the features\n",
    "\n",
    "train_feats = train_plus_label[:,:-1]\n",
    "train_labels = train_plus_label[:,-1]\n",
    "\n",
    "test_feats = test_plus_label[:,:-1]\n",
    "test_labels = test_plus_label[:,-1]"
   ]
  },
  {
   "cell_type": "code",
   "execution_count": 5,
   "metadata": {},
   "outputs": [
    {
     "name": "stdout",
     "output_type": "stream",
     "text": [
      "Substituting 0 nans for -999 in chinr\n",
      "Substituting 0 nans for -999 in distnr\n",
      "Substituting 0 nans for -999 in magnr\n",
      "Substituting 0 nans for -999 in sharpnr\n",
      "Substituting 0 nans for -999 in sigmagnr\n",
      "Substituting 13487 nans for -999 in ssdistnr\n",
      "Substituting 13487 nans for -999 in ssmagnr\n",
      "Imputed NaNs\n",
      "Substituting 0 nans for -999 in chinr\n",
      "Substituting 0 nans for -999 in distnr\n",
      "Substituting 0 nans for -999 in magnr\n",
      "Substituting 0 nans for -999 in sharpnr\n",
      "Substituting 0 nans for -999 in sigmagnr\n",
      "Substituting 1520 nans for -999 in ssdistnr\n",
      "Substituting 1520 nans for -999 in ssmagnr\n",
      "Imputed NaNs\n"
     ]
    }
   ],
   "source": [
    "# INSTRUCTION: Write a small routine for doing the imputation described above.\n",
    "# 1) Find any feature ending with 'nr' and substitute NaNs with -999\n",
    "# 2) For all other features, substitute NaNs with the median value of that feature\n",
    "# 3) Verify NaNs are gone\n",
    "\n",
    "from sklearn.preprocessing import Imputer\n",
    "\n",
    "def impute_missing(feats, featnames):\n",
    "\n",
    "    # impute -999 into *nr features\n",
    "    nr_feats_colidx = []\n",
    "    nr_featnames = []\n",
    "    for fname in featnames:\n",
    "        if fname.endswith('nr'):\n",
    "            nr_featnames.append(fname)\n",
    "            nr_feats_colidx.append(featnames.index(fname))\n",
    "\n",
    "    for i in range(len(nr_feats_colidx)):\n",
    "        colidx = nr_feats_colidx[i]\n",
    "        colname = nr_featnames[i]\n",
    "        nan_mask = np.isnan(feats[:,colidx])\n",
    "        print(\"Substituting {} nans for -999 in {}\".format(np.sum(nan_mask), colname))\n",
    "        feats[nan_mask,colidx] = -999\n",
    "\n",
    "    # impute other missing values with median feature value\n",
    "    imp = Imputer(missing_values='NaN', strategy='median', axis=0) \n",
    "    imp.fit(feats) \n",
    "    feats = imp.transform(feats)\n",
    "    print(\"Imputed NaNs\")\n",
    "    return feats\n",
    "\n",
    "train_feats = impute_missing(train_feats, featnames)\n",
    "test_feats = impute_missing(test_feats, featnames)\n"
   ]
  },
  {
   "cell_type": "markdown",
   "metadata": {},
   "source": [
    "#### Part 2. Scaling Data\n",
    "\n",
    "With missing values handled, you're closing to training your classifiers.  However, because distance metrics can be sensitive to the scale of your data (e.g., some features span large numeric ranges, but others don't), it is important to normalize data within a standard range such as (0, 1) or with z-score normalization (scaling to unit mean and variance).  Fortunately, sklearn also makes this quite easy.  Please review sklearn's [preprocessing](http://scikit-learn.org/stable/modules/classes.html#module-sklearn.preprocessing) module options, specifically StandardScaler which corresponds to z-score normalization and MinMaxScaler.  Please implement one.  \n",
    "\n",
    "FYI - Neural networks and Support Vector Machines (SVM) are sensitive to the scale of the data.  Decision trees (and therefore Random Forests) are not. "
   ]
  },
  {
   "cell_type": "code",
   "execution_count": 6,
   "metadata": {},
   "outputs": [],
   "source": [
    "# INSTRUCTION: Re-scale your data using either the MinMaxScaler or StandardScaler from sklearn\n",
    "#\n",
    "from sklearn.preprocessing import MinMaxScaler\n",
    "\n",
    "scaler = MinMaxScaler().fit(train_feats)\n",
    "train_feats = scaler.transform(train_feats)\n",
    "\n",
    "scaler = MinMaxScaler().fit(test_feats)\n",
    "test_feats = scaler.transform(test_feats)"
   ]
  },
  {
   "cell_type": "markdown",
   "metadata": {},
   "source": [
    "#### Part 3. Train Classifiers\n",
    "\n",
    "Import a few classifiers and build models on your training data.  Some suggestions include a [Support Vector Machine](http://scikit-learn.org/stable/modules/generated/sklearn.svm.SVC.html#sklearn.svm.SVC), [Random Forest](http://scikit-learn.org/stable/modules/generated/sklearn.ensemble.RandomForestClassifier.html#sklearn.ensemble.RandomForestClassifier), [Neural Net](http://scikit-learn.org/stable/modules/generated/sklearn.neural_network.MLPClassifier.html#sklearn.neural_network.MLPClassifier), [NaiveBayes](http://scikit-learn.org/stable/modules/generated/sklearn.naive_bayes.GaussianNB.html#sklearn.naive_bayes.GaussianNB) and [K-Nearest Neighbor](http://scikit-learn.org/stable/modules/generated/sklearn.neighbors.KNeighborsClassifier.html#sklearn.neighbors.KNeighborsClassifier).  \n",
    "\n",
    "All of these classifiers have parameters which should be tuned on an set of data that's independent of both the train and test data.  This tutorial does not cover parameter tuning, but a good review of how to tune classifiers is covered [here](http://scikit-learn.org/stable/modules/grid_search.html)."
   ]
  },
  {
   "cell_type": "code",
   "execution_count": 7,
   "metadata": {},
   "outputs": [],
   "source": [
    "from sklearn.neural_network import MLPClassifier\n",
    "from sklearn.neighbors import KNeighborsClassifier\n",
    "from sklearn.svm import SVC\n",
    "from sklearn.tree import DecisionTreeClassifier\n",
    "from sklearn.ensemble import RandomForestClassifier\n",
    "from sklearn.naive_bayes import GaussianNB\n",
    "\n",
    "knn3 = KNeighborsClassifier(3),\n",
    "svml = SVC(kernel=\"linear\", C=0.025, probability=True)\n",
    "svmr = SVC(gamma=2, C=1, probability=True)\n",
    "dtre = DecisionTreeClassifier(max_depth=5)\n",
    "rafo = RandomForestClassifier(max_depth=5, n_estimators=100, max_features=1)\n",
    "nnet = MLPClassifier(alpha=1)\n",
    "naiv = GaussianNB()\n",
    "\n",
    "# INSTRUCTION: Train three classifiers and run on your test data. Here's an example to get your started.  \n",
    "# Which ones seems to take longer to train?\n",
    "# \n",
    "\n",
    "rafo.fit(train_feats, train_labels)\n",
    "rafo_scores = rafo.predict_proba(test_feats)[:,1]\n",
    "\n",
    "dtre.fit(train_feats, train_labels)\n",
    "dtre_scores = dtre.predict_proba(test_feats)[:,1]\n",
    "\n",
    "svmr.fit(train_feats, train_labels)\n",
    "svmr_scores = svmr.predict_proba(test_feats)[:,1]\n"
   ]
  },
  {
   "cell_type": "markdown",
   "metadata": {},
   "source": [
    "#### Part 4. Plot Results\n",
    "\n",
    "In order to assess performance, we plot a histogram of the test set RB scores, comparing the distributions of the labeled reals vs. boguses.  The scores of the reals should be close to 1, while the scores of the boguses should be closer to 0.  The more separated the distribution of scores, the better performing your classifier is.\n",
    "\n",
    "Compare the score distributions of the classifiers you've trained.  Trying displaying as a cumulative distribution and as a straight histogram.  \n",
    "\n",
    "*Optional:* What would the decision thresholds be at the  5, 10 and 20% false negative rate (FNR)?  What would the decision threshold be at the 1, 10, and 20% false positive rate?"
   ]
  },
  {
   "cell_type": "code",
   "execution_count": 8,
   "metadata": {},
   "outputs": [
    {
     "name": "stdout",
     "output_type": "stream",
     "text": [
      "nreal=557, nbogus=968\n",
      "05% FNR Detection threshold=1.00\n",
      "10% FNR Detection threshold=1.00\n",
      "20% FNR Detection threshold=1.00\n",
      "1% FPR Detection threshold=1.00\n",
      "10% FPR Detection threshold=1.00\n",
      "20% FPR Detection threshold=1.00\n"
     ]
    },
    {
     "name": "stderr",
     "output_type": "stream",
     "text": [
      "/anaconda3/lib/python3.6/site-packages/matplotlib/axes/_axes.py:6462: UserWarning: The 'normed' kwarg is deprecated, and has been replaced by the 'density' kwarg.\n",
      "  warnings.warn(\"The 'normed' kwarg is deprecated, and has been \"\n"
     ]
    },
    {
     "data": {
      "image/png": "[encoded data removed]",
      "text/plain": [
       "<Figure size 432x288 with 1 Axes>"
      ]
     },
     "metadata": {},
     "output_type": "display_data"
    },
    {
     "data": {
      "image/png": "[encoded data removed]",
      "text/plain": [
       "<Figure size 432x288 with 1 Axes>"
      ]
     },
     "metadata": {},
     "output_type": "display_data"
    }
   ],
   "source": [
    "# INSTRUCTION: create masks for the real and bogus examples of the test set\n",
    "%matplotlib inline\n",
    "import matplotlib.pyplot as plt\n",
    "\n",
    "real_mask = test_labels == 1\n",
    "bogus_mask = test_labels == 0\n",
    "print('nreal={}, nbogus={}'.format(np.sum(real_mask), np.sum(bogus_mask)))\n",
    "\n",
    "# INSTRUCTION: First compare the classifiers' scores on the test reals only\n",
    "#\n",
    "\n",
    "scores_list = [rafo_scores, dtre_scores, svmr_scores]\n",
    "legends = ['Random Forest', 'Decision Tree', 'SVM-RBF'] \n",
    "colors = ['g', 'b', 'r'] \n",
    "\n",
    "\n",
    "# Comparison on Reals\n",
    "#\n",
    "plt.figure()\n",
    "ax = plt.subplot(111)\n",
    "rbbins = np.arange(0,1,0.001)\n",
    "for i, scores in enumerate(scores_list):\n",
    "    vals, bins, dummy = ax.hist(scores[real_mask], rbbins, histtype='step', cumulative=False, normed=False, color=colors[i])\n",
    "#     vals, bins, dummy = ax.hist(scores[real_mask], rbbins, histtype='step', cumulative=True, normed=True, color=colors[i])\n",
    "ax.set_xlabel('RB Score')\n",
    "ax.set_ylabel('Count')\n",
    "ax.set_xbound(0, 1)\n",
    "ax.legend(legends, loc=4)\n",
    "\n",
    "# Calculating Thresholds\n",
    "#\n",
    "bins = bins[:-1]\n",
    "vals_mask_05 = vals < 0.05\n",
    "vals_mask_10 = vals < 0.10\n",
    "vals_mask_20 = vals < 0.20\n",
    "thres_05 = (bins[vals_mask_05])[-1]\n",
    "thres_10 = (bins[vals_mask_10])[-1]\n",
    "thres_20 = (bins[vals_mask_20])[-1]\n",
    "print(\"05% FNR Detection threshold={:.2f}\".format(thres_05))\n",
    "print(\"10% FNR Detection threshold={:.2f}\".format(thres_10))\n",
    "print(\"20% FNR Detection threshold={:.2f}\".format(thres_20))\n",
    "\n",
    "# Comparison on Reals\n",
    "#\n",
    "plt.figure()\n",
    "ax = plt.subplot(111)\n",
    "rbbins = np.arange(0,1,0.001)\n",
    "for i, scores in enumerate(scores_list):\n",
    "    vals, bins, dummy = ax.hist(scores[bogus_mask], rbbins, histtype='step', cumulative=False, normed=False, color=colors[i])\n",
    "#     vals, bins, dummy = ax.hist(scores[bogus_mask], rbbins, histtype='step', cumulative=True, normed=True, color=colors[i])\n",
    "\n",
    "ax.set_xlabel('RB Score')\n",
    "ax.set_ylabel('Count')\n",
    "ax.set_xbound(0, 1)\n",
    "ax.legend(legends, loc=4)\n",
    "\n",
    "bins = bins[:-1]\n",
    "vals_mask_99 = vals < 0.99\n",
    "vals_mask_90 = vals < 0.90\n",
    "vals_mask_80 = vals < 0.80\n",
    "thres_99 = (bins[vals_mask_99])[-1]\n",
    "thres_90 = (bins[vals_mask_90])[-1]\n",
    "thres_80 = (bins[vals_mask_80])[-1]\n",
    "print(\"1% FPR Detection threshold={:.2f}\".format(thres_99))\n",
    "print(\"10% FPR Detection threshold={:.2f}\".format(thres_90))\n",
    "print(\"20% FPR Detection threshold={:.2f}\".format(thres_80))"
   ]
  },
  {
   "cell_type": "code",
   "execution_count": null,
   "metadata": {},
   "outputs": [],
   "source": []
  }
 ],
 "metadata": {
  "kernelspec": {
   "display_name": "Python 3",
   "language": "python",
   "name": "python3"
  },
  "language_info": {
   "codemirror_mode": {
    "name": "ipython",
    "version": 3
   },
   "file_extension": ".py",
   "mimetype": "text/x-python",
   "name": "python",
   "nbconvert_exporter": "python",
   "pygments_lexer": "ipython3",
   "version": "3.6.5"
  }
 },
 "nbformat": 4,
 "nbformat_minor": 2
}
