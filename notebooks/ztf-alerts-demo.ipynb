{
 "cells": [
  {
   "cell_type": "markdown",
   "metadata": {},
   "source": [
    "## ZTF alerts demo\n",
    "\n",
    "In this demo, we will:\n",
    "- Set up `Docker`\n",
    "- Using `Docker`, deploy a `MongoDB` database, fetch a night worth of (pre-filtered to reduce size) public ZTF alerts, ingest it into the database, and create indices in the database for faster queries\n",
    "- Set up `Robo3T` and use it to look at the database and query it\n",
    "- Query the database using `python`\n",
    "- Inspect the contents of an alert packet\n",
    "- Construct and plot a light curve\n",
    "- Plot the cutout images from an alert packet\n",
    "\n",
    "\n",
    "### Download and install `Docker` and `Robo3T`\n",
    "- Download and install the appropriate version of `Docker` for your platform from [here](https://www.docker.com/community-edition). You will need to create an account on their website.\n",
    "- Download and install `Robo3T` from [here](https://robomongo.org/download).\n",
    "  We will use it to connect to the database.\n",
    "\n",
    "### Fetch, build, and run the code to deploy a `MongoDB` database, fetch a night worth of (pre-filtered to reduce size) public ZTF alerts, ingest it into the database, and create indices in the database for faster queries\n",
    "\n",
    "This is a lot of stuff! Sounds scary, however with the help of `Docker`, we will only have to run a few simple commands to do all that.\n",
    "\n",
    "Clone the repo and `cd` into the directory:\n",
    "\n",
    "```bash\n",
    "git clone https://github.com/dmitryduev/ztf-alerts-demo.git\n",
    "cd ztf-alerts-demo\n",
    "```\n",
    "\n",
    "The inside/contents of a `Docker` container get destroyed when it is removed, so we need to tell `Docker` to keep the useful data in a \"persistent\" storage.\n",
    "\n",
    "Create a so-called persistent `Docker` volume for `MongoDB`:\n",
    "```bash\n",
    "docker volume create alert-fetcher-mongo-volume\n",
    "```\n",
    "\n",
    "Launch the `MongoDB` container. (Feel free to change u/p for the db admin. If you choose to do so, change the corresponding fields in the fetcher config file alert-fetcher/code/config.json: "database" -> "admin" and "admin_pwd". Also feel free to change the the default mongo u/p specified in the config file.)\n",
    "```bash\n",
    "docker run -d --restart always --name alert-fetcher-mongo -p 27018:27017 \\\n",
    "       -v alert-fetcher-mongo-volume:/data/db \\\n",
    "       -e MONGO_INITDB_ROOT_USERNAME=mongoadmin \\\n",
    "       -e MONGO_INITDB_ROOT_PASSWORD=mongoadminsecret \\\n",
    "       mongo:latest\n",
    "```\n",
    "\n",
    "That's it for the database set-up! You can now connect to it on `localhost` on port `27018`.\n",
    "\n",
    "Finally, build and launch the alert-fetcher container. We will bind-mount a directory on your host machine to store the alerts:\n",
    "```bash\n",
    "cd alert-fetcher\n",
    "docker build -t alert-fetcher -f Dockerfile .\n",
    "# make sure path /path/to/alerts (or whatever path you specify) exists\n",
    "docker run --rm -v /path/to/alerts:/alerts \\\n",
    "           --name alert-fetcher --link alert-fetcher-mongo:mongo -it alert-fetcher\n",
    "```\n",
    "\n",
    "This will launch a program that will fetch a pre-filtered (demo) set of public ZTF alerts from July 13, 2018, ingest that into the MongoDB database, and create indicies to accelerate queries. The script will add a `coordinates` field to each that is not part of the original alert packets, to allow 2d indexation on the sphere for fast positional/cone searches. Additionally, a unique string `candid_objectId` is used a the alert identifier in the database."
   ]
  },
  {
   "cell_type": "markdown",
   "metadata": {},
   "source": [
    "---\n",
    "We can now use `Robo3T` to connect to the database and take a look at the alerts. Launch `Robo3T` and click \"create\" connection. \n",
    "- Name the connection, for example, `local_docker_alerts_demo`\n",
    "- Use `localhost` : `27018` as the address\n",
    "- On the `Authentication` tab, check \"perform authentication\", and use `admin` for `Database`, `mongoadmin` for `User Name`, `mongoadminsecret` for 'Password'(if you did not choose other u/p), and `SCRAM-SHA-1` for `Auth Mechanism`\n",
    "- Click `Save` and then `Connect`\n",
    "\n",
    "`Robo3T` will connect to the database. To see the ingested alerts, click `ztf_alerts` -> `Collections` -> `alerts`."
   ]
  },
  {
   "cell_type": "markdown",
   "metadata": {},
   "source": [
    "---\n",
    "##### Notes [optional]\n",
    "\n",
    "To check the running/stopped containers, type:\n",
    "```bash\n",
    "docker ps -a\n",
    "```\n",
    "\n",
    "To stop and remove a container, run:\n",
    "```bash\n",
    "docker stop container_name\n",
    "docker rm -f container_name\n",
    "```\n",
    "\n",
    "To get all public alerts from the ZTF archive for a given night, remove `--demo` from the last line of the file `alert-fetcher/Dockerfile` and change the date string. Then re-build and re-run the alert-fetcher container.\n",
    "\n",
    "Every time when you change the code that is used inside a container, the latter must be re-build and restarted.\n",
    "\n",
    "Alerts are stored in the database in a serialized binary format that resembles the Apache Avro format used in the packets in that it can be easily converted into `json` or a `python` dictionary.\n",
    "\n",
    "---"
   ]
  },
  {
   "cell_type": "markdown",
   "metadata": {},
   "source": [
    "We will now explore the contents of an avro packet. We will also learn how to construct and display a light curve for an alert and plot the cutout images.\n",
    "\n",
    "_NOTE:_ You may want to look at Eric Bellm's Jupyter [notebook](https://github.com/ZwickyTransientFacility/ztf-avro-alert/blob/master/notebooks/Working_with_avro_files.ipynb) with some more examples."
   ]
  },
  {
   "cell_type": "markdown",
   "metadata": {},
   "source": [
    "Let's create a `python` virtual environment with `conda` and install the required python modules into it:\n",
    "\n",
    "```bash\n",
    "conda create --name ztfalerts python=3.6\n",
    "# type y to proceed\n",
    "# install pip and jupyter:\n",
    "conda install -n ztfalerts pip\n",
    "conda install -n ztfalerts jupyter\n",
    "# activate the environment:\n",
    "source activate ztfalerts\n",
    "# download requirements.txt:\n",
    "wget https://raw.githubusercontent.com/dmitryduev/ztf-alerts-demo/master/alert-fetcher/code/requirements.txt\n",
    "# install required modules into the environment:\n",
    "pip install -r requirements.txt\n",
    "```\n",
    "\n",
    "Now start `jupyter` and create a new notebook:\n",
    "```bash\n",
    "jupyter notebook\n",
    "```"
   ]
  },
  {
   "cell_type": "code",
   "execution_count": 1,
   "metadata": {
    "collapsed": false
   },
   "outputs": [],
   "source": [
    "import os\n",
    "import io\n",
    "import gzip\n",
    "import numpy as np\n",
    "import pandas as pd\n",
    "import matplotlib.pyplot as plt\n",
    "\n",
    "import fastavro\n",
    "\n",
    "from astropy.time import Time\n",
    "from astropy.io import fits\n",
    "import aplpy\n",
    "\n",
    "%matplotlib inline"
   ]
  },
  {
   "cell_type": "markdown",
   "metadata": {},
   "source": [
    "** Contents of an avro packet **\n",
    "\n",
    "Each avro packet contains many different pieces of information about an alert. \n",
    "You can see a description of all of the contents here:\n",
    "https://zwickytransientfacility.github.io/ztf-avro-alert/schema.html\n",
    "\n",
    "We recommend keeping this description open in a separate tab for reference during these exercises."
   ]
  },
  {
   "cell_type": "markdown",
   "metadata": {},
   "source": [
    "Now, let's look at a particular avro packet:"
   ]
  },
  {
   "cell_type": "code",
   "execution_count": 5,
   "metadata": {
    "collapsed": false
   },
   "outputs": [
    {
     "name": "stdout",
     "output_type": "stream",
     "text": [
      "dict_keys(['objectId', 'candidate', 'candid', 'prv_candidates', 'cutoutDifference', 'cutoutScience', 'cutoutTemplate'])\n"
     ]
    }
   ],
   "source": [
    "# You'll have to change the path to match wherever you put the alerts\n",
    "avro_packet = './ztf-alerts-demo/alert-fetcher/alerts/20180713/558359715915010021.avro'\n",
    "with open(avro_packet, 'rb') as fa:\n",
    "    freader = fastavro.reader(fa)\n",
    "    schema = freader.schema\n",
    "\n",
    "    for packet in freader:\n",
    "        print(packet.keys())"
   ]
  },
  {
   "cell_type": "markdown",
   "metadata": {},
   "source": [
    "The schema is stored in the packet:"
   ]
  },
  {
   "cell_type": "code",
   "execution_count": null,
   "metadata": {
    "collapsed": false
   },
   "outputs": [],
   "source": [
    "schema"
   ]
  },
  {
   "cell_type": "markdown",
   "metadata": {},
   "source": [
    "The payload, once in memory, is a python dictionary, so the attributes are easy to access"
   ]
  },
  {
   "cell_type": "code",
   "execution_count": null,
   "metadata": {
    "collapsed": true
   },
   "outputs": [],
   "source": [
    "packet"
   ]
  },
  {
   "cell_type": "code",
   "execution_count": 6,
   "metadata": {
    "collapsed": false
   },
   "outputs": [
    {
     "name": "stdout",
     "output_type": "stream",
     "text": [
      "JD: 2458312.8597106 Filter: 1 Mag: 18.83+/-0.09\n"
     ]
    }
   ],
   "source": [
    "print('JD: {} Filter: {} Mag: {:.2f}+/-{:.2f}'.format(\n",
    "    packet['candidate']['jd'], packet['candidate']['fid'],\n",
    "    packet['candidate']['magpsf'], packet['candidate']['sigmapsf']))"
   ]
  },
  {
   "cell_type": "markdown",
   "metadata": {},
   "source": [
    "**NOTE ESPECIALLY:** the magnitudes here do not include the magnitude of the underlying reference source (if present), so if this is a variable star further adjustment is needed."
   ]
  },
  {
   "cell_type": "code",
   "execution_count": null,
   "metadata": {
    "collapsed": false
   },
   "outputs": [],
   "source": [
    "### Exercise: Using the schema guide linked above, answer the following questions about this candidate:\n",
    "# 1) What is the real-bogus score?\n",
    "\n",
    "print( # Finish this line\n",
    "\n",
    "# 2) What is the distance to the nearest source in Pan-STARRS? \n",
    "    \n",
    "print( # Finish this line\n",
    "        \n",
    "# 3) What is the magnitude and color of the nearest source in Pan-STARRS?\n",
    "        \n",
    "print( # Finish this line        \n",
    "\n",
    "# 4) Do you think that this candidate is a star? \n",
    "\n",
    "print( # Add code here"
   ]
  },
  {
   "cell_type": "markdown",
   "metadata": {},
   "source": [
    "Record access like the above is a little verbose; let's wrap things up in a pandas dataframe for ease of access (and faster loading). As an example, we will extract the lightcurves. The alert packet formats are nested, so the historical detections (if present) have the same structure as the candidate triggering the alert (minus a couple fields)."
   ]
  },
  {
   "cell_type": "code",
   "execution_count": 7,
   "metadata": {
    "collapsed": true
   },
   "outputs": [],
   "source": [
    "def make_dataframe(packet):\n",
    "    df = pd.DataFrame(packet['candidate'], index=[0]) # the current alert\n",
    "    df_prv = pd.DataFrame(packet['prv_candidates']) # obtaining all previous alerts at this location\n",
    "    return pd.concat([df, df_prv], ignore_index=True) # we put the current alert and previous ones in the same table"
   ]
  },
  {
   "cell_type": "code",
   "execution_count": 8,
   "metadata": {
    "collapsed": false
   },
   "outputs": [
    {
     "data": {
      "text/html": [
       "<div>\n",
       "<style scoped>\n",
       "    .dataframe tbody tr th:only-of-type {\n",
       "        vertical-align: middle;\n",
       "    }\n",
       "\n",
       "    .dataframe tbody tr th {\n",
       "        vertical-align: top;\n",
       "    }\n",
       "\n",
       "    .dataframe thead th {\n",
       "        text-align: right;\n",
       "    }\n",
       "</style>\n",
       "<table border=\"1\" class=\"dataframe\">\n",
       "  <thead>\n",
       "    <tr style=\"text-align: right;\">\n",
       "      <th></th>\n",
       "      <th>aimage</th>\n",
       "      <th>aimagerat</th>\n",
       "      <th>bimage</th>\n",
       "      <th>bimagerat</th>\n",
       "      <th>candid</th>\n",
       "      <th>chinr</th>\n",
       "      <th>chipsf</th>\n",
       "      <th>classtar</th>\n",
       "      <th>dec</th>\n",
       "      <th>decnr</th>\n",
       "      <th>...</th>\n",
       "      <th>ssmagnr</th>\n",
       "      <th>ssnamenr</th>\n",
       "      <th>sumrat</th>\n",
       "      <th>szmag1</th>\n",
       "      <th>szmag2</th>\n",
       "      <th>szmag3</th>\n",
       "      <th>tblid</th>\n",
       "      <th>tooflag</th>\n",
       "      <th>xpos</th>\n",
       "      <th>ypos</th>\n",
       "    </tr>\n",
       "  </thead>\n",
       "  <tbody>\n",
       "    <tr>\n",
       "      <th>0</th>\n",
       "      <td>0.834</td>\n",
       "      <td>0.334940</td>\n",
       "      <td>0.744</td>\n",
       "      <td>0.298795</td>\n",
       "      <td>5.583597e+17</td>\n",
       "      <td>1.012</td>\n",
       "      <td>5.921492</td>\n",
       "      <td>0.990</td>\n",
       "      <td>28.690015</td>\n",
       "      <td>28.690045</td>\n",
       "      <td>...</td>\n",
       "      <td>-999</td>\n",
       "      <td>null</td>\n",
       "      <td>0.991501</td>\n",
       "      <td>11.616</td>\n",
       "      <td>15.9605</td>\n",
       "      <td>-999.0</td>\n",
       "      <td>21.0</td>\n",
       "      <td>0.0</td>\n",
       "      <td>804.370728</td>\n",
       "      <td>1235.827026</td>\n",
       "    </tr>\n",
       "    <tr>\n",
       "      <th>1</th>\n",
       "      <td>0.785</td>\n",
       "      <td>0.406736</td>\n",
       "      <td>0.771</td>\n",
       "      <td>0.399482</td>\n",
       "      <td>5.283940e+17</td>\n",
       "      <td>1.012</td>\n",
       "      <td>5.872590</td>\n",
       "      <td>0.977</td>\n",
       "      <td>28.689995</td>\n",
       "      <td>28.690045</td>\n",
       "      <td>...</td>\n",
       "      <td>None</td>\n",
       "      <td>None</td>\n",
       "      <td>1.000000</td>\n",
       "      <td>NaN</td>\n",
       "      <td>NaN</td>\n",
       "      <td>NaN</td>\n",
       "      <td>87.0</td>\n",
       "      <td>NaN</td>\n",
       "      <td>801.806030</td>\n",
       "      <td>1337.579956</td>\n",
       "    </tr>\n",
       "    <tr>\n",
       "      <th>2</th>\n",
       "      <td>0.765</td>\n",
       "      <td>0.317427</td>\n",
       "      <td>0.727</td>\n",
       "      <td>0.301660</td>\n",
       "      <td>5.294034e+17</td>\n",
       "      <td>1.012</td>\n",
       "      <td>3.644890</td>\n",
       "      <td>0.984</td>\n",
       "      <td>28.690009</td>\n",
       "      <td>28.690045</td>\n",
       "      <td>...</td>\n",
       "      <td>None</td>\n",
       "      <td>None</td>\n",
       "      <td>0.979505</td>\n",
       "      <td>NaN</td>\n",
       "      <td>NaN</td>\n",
       "      <td>NaN</td>\n",
       "      <td>209.0</td>\n",
       "      <td>NaN</td>\n",
       "      <td>807.197998</td>\n",
       "      <td>1258.339966</td>\n",
       "    </tr>\n",
       "    <tr>\n",
       "      <th>3</th>\n",
       "      <td>0.878</td>\n",
       "      <td>0.295623</td>\n",
       "      <td>0.840</td>\n",
       "      <td>0.282828</td>\n",
       "      <td>5.324025e+17</td>\n",
       "      <td>1.012</td>\n",
       "      <td>2.086550</td>\n",
       "      <td>0.979</td>\n",
       "      <td>28.690028</td>\n",
       "      <td>28.690045</td>\n",
       "      <td>...</td>\n",
       "      <td>None</td>\n",
       "      <td>None</td>\n",
       "      <td>1.000000</td>\n",
       "      <td>NaN</td>\n",
       "      <td>NaN</td>\n",
       "      <td>NaN</td>\n",
       "      <td>15.0</td>\n",
       "      <td>NaN</td>\n",
       "      <td>803.140991</td>\n",
       "      <td>1246.989990</td>\n",
       "    </tr>\n",
       "    <tr>\n",
       "      <th>4</th>\n",
       "      <td>0.974</td>\n",
       "      <td>0.332423</td>\n",
       "      <td>0.907</td>\n",
       "      <td>0.309556</td>\n",
       "      <td>5.343982e+17</td>\n",
       "      <td>1.012</td>\n",
       "      <td>2.140210</td>\n",
       "      <td>0.978</td>\n",
       "      <td>28.689969</td>\n",
       "      <td>28.690045</td>\n",
       "      <td>...</td>\n",
       "      <td>None</td>\n",
       "      <td>None</td>\n",
       "      <td>1.000000</td>\n",
       "      <td>NaN</td>\n",
       "      <td>NaN</td>\n",
       "      <td>NaN</td>\n",
       "      <td>31.0</td>\n",
       "      <td>NaN</td>\n",
       "      <td>803.898987</td>\n",
       "      <td>1340.150024</td>\n",
       "    </tr>\n",
       "    <tr>\n",
       "      <th>5</th>\n",
       "      <td>1.189</td>\n",
       "      <td>0.379872</td>\n",
       "      <td>1.100</td>\n",
       "      <td>0.351438</td>\n",
       "      <td>5.353941e+17</td>\n",
       "      <td>1.012</td>\n",
       "      <td>1.746510</td>\n",
       "      <td>0.971</td>\n",
       "      <td>28.689968</td>\n",
       "      <td>28.690045</td>\n",
       "      <td>...</td>\n",
       "      <td>None</td>\n",
       "      <td>None</td>\n",
       "      <td>1.000000</td>\n",
       "      <td>NaN</td>\n",
       "      <td>NaN</td>\n",
       "      <td>NaN</td>\n",
       "      <td>50.0</td>\n",
       "      <td>NaN</td>\n",
       "      <td>802.281982</td>\n",
       "      <td>1137.810059</td>\n",
       "    </tr>\n",
       "    <tr>\n",
       "      <th>6</th>\n",
       "      <td>0.734</td>\n",
       "      <td>0.329148</td>\n",
       "      <td>0.716</td>\n",
       "      <td>0.321076</td>\n",
       "      <td>5.374373e+17</td>\n",
       "      <td>1.012</td>\n",
       "      <td>7.425900</td>\n",
       "      <td>1.000</td>\n",
       "      <td>28.690023</td>\n",
       "      <td>28.690045</td>\n",
       "      <td>...</td>\n",
       "      <td>None</td>\n",
       "      <td>None</td>\n",
       "      <td>1.000000</td>\n",
       "      <td>NaN</td>\n",
       "      <td>NaN</td>\n",
       "      <td>NaN</td>\n",
       "      <td>363.0</td>\n",
       "      <td>NaN</td>\n",
       "      <td>808.231018</td>\n",
       "      <td>1156.479980</td>\n",
       "    </tr>\n",
       "    <tr>\n",
       "      <th>7</th>\n",
       "      <td>0.769</td>\n",
       "      <td>0.351142</td>\n",
       "      <td>0.719</td>\n",
       "      <td>0.328311</td>\n",
       "      <td>5.384377e+17</td>\n",
       "      <td>1.012</td>\n",
       "      <td>4.711660</td>\n",
       "      <td>0.985</td>\n",
       "      <td>28.690003</td>\n",
       "      <td>28.690045</td>\n",
       "      <td>...</td>\n",
       "      <td>None</td>\n",
       "      <td>None</td>\n",
       "      <td>0.996816</td>\n",
       "      <td>NaN</td>\n",
       "      <td>NaN</td>\n",
       "      <td>NaN</td>\n",
       "      <td>129.0</td>\n",
       "      <td>NaN</td>\n",
       "      <td>809.143005</td>\n",
       "      <td>1159.790039</td>\n",
       "    </tr>\n",
       "    <tr>\n",
       "      <th>8</th>\n",
       "      <td>0.779</td>\n",
       "      <td>0.340175</td>\n",
       "      <td>0.753</td>\n",
       "      <td>0.328821</td>\n",
       "      <td>5.394212e+17</td>\n",
       "      <td>1.012</td>\n",
       "      <td>3.211380</td>\n",
       "      <td>1.000</td>\n",
       "      <td>28.690004</td>\n",
       "      <td>28.690045</td>\n",
       "      <td>...</td>\n",
       "      <td>None</td>\n",
       "      <td>None</td>\n",
       "      <td>1.000000</td>\n",
       "      <td>NaN</td>\n",
       "      <td>NaN</td>\n",
       "      <td>NaN</td>\n",
       "      <td>19.0</td>\n",
       "      <td>NaN</td>\n",
       "      <td>811.268982</td>\n",
       "      <td>1179.329956</td>\n",
       "    </tr>\n",
       "    <tr>\n",
       "      <th>9</th>\n",
       "      <td>0.677</td>\n",
       "      <td>0.354450</td>\n",
       "      <td>0.624</td>\n",
       "      <td>0.326702</td>\n",
       "      <td>5.404465e+17</td>\n",
       "      <td>1.012</td>\n",
       "      <td>5.214570</td>\n",
       "      <td>0.981</td>\n",
       "      <td>28.690020</td>\n",
       "      <td>28.690045</td>\n",
       "      <td>...</td>\n",
       "      <td>None</td>\n",
       "      <td>None</td>\n",
       "      <td>0.977343</td>\n",
       "      <td>NaN</td>\n",
       "      <td>NaN</td>\n",
       "      <td>NaN</td>\n",
       "      <td>27.0</td>\n",
       "      <td>NaN</td>\n",
       "      <td>809.742004</td>\n",
       "      <td>1202.829956</td>\n",
       "    </tr>\n",
       "    <tr>\n",
       "      <th>10</th>\n",
       "      <td>0.777</td>\n",
       "      <td>0.348430</td>\n",
       "      <td>0.720</td>\n",
       "      <td>0.322870</td>\n",
       "      <td>5.424473e+17</td>\n",
       "      <td>1.012</td>\n",
       "      <td>1.454090</td>\n",
       "      <td>0.977</td>\n",
       "      <td>28.690007</td>\n",
       "      <td>28.690045</td>\n",
       "      <td>...</td>\n",
       "      <td>None</td>\n",
       "      <td>None</td>\n",
       "      <td>0.985111</td>\n",
       "      <td>NaN</td>\n",
       "      <td>NaN</td>\n",
       "      <td>NaN</td>\n",
       "      <td>14.0</td>\n",
       "      <td>NaN</td>\n",
       "      <td>810.713013</td>\n",
       "      <td>1317.839966</td>\n",
       "    </tr>\n",
       "    <tr>\n",
       "      <th>11</th>\n",
       "      <td>0.910</td>\n",
       "      <td>0.390558</td>\n",
       "      <td>0.756</td>\n",
       "      <td>0.324464</td>\n",
       "      <td>5.434574e+17</td>\n",
       "      <td>1.012</td>\n",
       "      <td>0.901140</td>\n",
       "      <td>0.996</td>\n",
       "      <td>28.690034</td>\n",
       "      <td>28.690045</td>\n",
       "      <td>...</td>\n",
       "      <td>None</td>\n",
       "      <td>None</td>\n",
       "      <td>0.882734</td>\n",
       "      <td>NaN</td>\n",
       "      <td>NaN</td>\n",
       "      <td>NaN</td>\n",
       "      <td>7.0</td>\n",
       "      <td>NaN</td>\n",
       "      <td>812.260010</td>\n",
       "      <td>1246.430054</td>\n",
       "    </tr>\n",
       "    <tr>\n",
       "      <th>12</th>\n",
       "      <td>NaN</td>\n",
       "      <td>NaN</td>\n",
       "      <td>NaN</td>\n",
       "      <td>NaN</td>\n",
       "      <td>NaN</td>\n",
       "      <td>NaN</td>\n",
       "      <td>NaN</td>\n",
       "      <td>NaN</td>\n",
       "      <td>NaN</td>\n",
       "      <td>NaN</td>\n",
       "      <td>...</td>\n",
       "      <td>None</td>\n",
       "      <td>None</td>\n",
       "      <td>NaN</td>\n",
       "      <td>NaN</td>\n",
       "      <td>NaN</td>\n",
       "      <td>NaN</td>\n",
       "      <td>NaN</td>\n",
       "      <td>NaN</td>\n",
       "      <td>NaN</td>\n",
       "      <td>NaN</td>\n",
       "    </tr>\n",
       "    <tr>\n",
       "      <th>13</th>\n",
       "      <td>0.866</td>\n",
       "      <td>0.352033</td>\n",
       "      <td>0.799</td>\n",
       "      <td>0.324797</td>\n",
       "      <td>5.454409e+17</td>\n",
       "      <td>1.012</td>\n",
       "      <td>2.657750</td>\n",
       "      <td>1.000</td>\n",
       "      <td>28.689991</td>\n",
       "      <td>28.690045</td>\n",
       "      <td>...</td>\n",
       "      <td>None</td>\n",
       "      <td>None</td>\n",
       "      <td>0.996387</td>\n",
       "      <td>NaN</td>\n",
       "      <td>NaN</td>\n",
       "      <td>NaN</td>\n",
       "      <td>14.0</td>\n",
       "      <td>NaN</td>\n",
       "      <td>805.396973</td>\n",
       "      <td>1365.599976</td>\n",
       "    </tr>\n",
       "    <tr>\n",
       "      <th>14</th>\n",
       "      <td>0.675</td>\n",
       "      <td>0.349741</td>\n",
       "      <td>0.627</td>\n",
       "      <td>0.324870</td>\n",
       "      <td>5.464476e+17</td>\n",
       "      <td>1.012</td>\n",
       "      <td>2.838020</td>\n",
       "      <td>0.982</td>\n",
       "      <td>28.689999</td>\n",
       "      <td>28.690045</td>\n",
       "      <td>...</td>\n",
       "      <td>None</td>\n",
       "      <td>None</td>\n",
       "      <td>0.932139</td>\n",
       "      <td>NaN</td>\n",
       "      <td>NaN</td>\n",
       "      <td>NaN</td>\n",
       "      <td>17.0</td>\n",
       "      <td>NaN</td>\n",
       "      <td>804.822021</td>\n",
       "      <td>1331.910034</td>\n",
       "    </tr>\n",
       "    <tr>\n",
       "      <th>15</th>\n",
       "      <td>0.673</td>\n",
       "      <td>0.341624</td>\n",
       "      <td>0.651</td>\n",
       "      <td>0.330457</td>\n",
       "      <td>5.473203e+17</td>\n",
       "      <td>1.012</td>\n",
       "      <td>2.588190</td>\n",
       "      <td>0.980</td>\n",
       "      <td>28.690023</td>\n",
       "      <td>28.690045</td>\n",
       "      <td>...</td>\n",
       "      <td>None</td>\n",
       "      <td>None</td>\n",
       "      <td>0.867601</td>\n",
       "      <td>NaN</td>\n",
       "      <td>NaN</td>\n",
       "      <td>NaN</td>\n",
       "      <td>18.0</td>\n",
       "      <td>NaN</td>\n",
       "      <td>792.140015</td>\n",
       "      <td>1163.250000</td>\n",
       "    </tr>\n",
       "    <tr>\n",
       "      <th>16</th>\n",
       "      <td>0.839</td>\n",
       "      <td>0.323938</td>\n",
       "      <td>0.733</td>\n",
       "      <td>0.283012</td>\n",
       "      <td>5.484361e+17</td>\n",
       "      <td>1.012</td>\n",
       "      <td>3.078750</td>\n",
       "      <td>0.992</td>\n",
       "      <td>28.690033</td>\n",
       "      <td>28.690045</td>\n",
       "      <td>...</td>\n",
       "      <td>None</td>\n",
       "      <td>None</td>\n",
       "      <td>1.000000</td>\n",
       "      <td>NaN</td>\n",
       "      <td>NaN</td>\n",
       "      <td>NaN</td>\n",
       "      <td>7.0</td>\n",
       "      <td>NaN</td>\n",
       "      <td>804.666016</td>\n",
       "      <td>1194.550049</td>\n",
       "    </tr>\n",
       "    <tr>\n",
       "      <th>17</th>\n",
       "      <td>0.718</td>\n",
       "      <td>0.353695</td>\n",
       "      <td>0.697</td>\n",
       "      <td>0.343350</td>\n",
       "      <td>5.494042e+17</td>\n",
       "      <td>1.012</td>\n",
       "      <td>7.699650</td>\n",
       "      <td>0.981</td>\n",
       "      <td>28.689997</td>\n",
       "      <td>28.690045</td>\n",
       "      <td>...</td>\n",
       "      <td>None</td>\n",
       "      <td>None</td>\n",
       "      <td>1.000000</td>\n",
       "      <td>NaN</td>\n",
       "      <td>NaN</td>\n",
       "      <td>NaN</td>\n",
       "      <td>28.0</td>\n",
       "      <td>NaN</td>\n",
       "      <td>804.671997</td>\n",
       "      <td>1163.660034</td>\n",
       "    </tr>\n",
       "    <tr>\n",
       "      <th>18</th>\n",
       "      <td>0.790</td>\n",
       "      <td>0.362385</td>\n",
       "      <td>0.713</td>\n",
       "      <td>0.327064</td>\n",
       "      <td>5.504280e+17</td>\n",
       "      <td>1.012</td>\n",
       "      <td>1.801250</td>\n",
       "      <td>0.981</td>\n",
       "      <td>28.690013</td>\n",
       "      <td>28.690045</td>\n",
       "      <td>...</td>\n",
       "      <td>None</td>\n",
       "      <td>None</td>\n",
       "      <td>1.000000</td>\n",
       "      <td>NaN</td>\n",
       "      <td>NaN</td>\n",
       "      <td>NaN</td>\n",
       "      <td>25.0</td>\n",
       "      <td>NaN</td>\n",
       "      <td>804.127014</td>\n",
       "      <td>1182.089966</td>\n",
       "    </tr>\n",
       "    <tr>\n",
       "      <th>19</th>\n",
       "      <td>0.752</td>\n",
       "      <td>0.343379</td>\n",
       "      <td>0.740</td>\n",
       "      <td>0.337900</td>\n",
       "      <td>5.513313e+17</td>\n",
       "      <td>1.012</td>\n",
       "      <td>5.288610</td>\n",
       "      <td>0.981</td>\n",
       "      <td>28.689997</td>\n",
       "      <td>28.690045</td>\n",
       "      <td>...</td>\n",
       "      <td>None</td>\n",
       "      <td>None</td>\n",
       "      <td>0.985327</td>\n",
       "      <td>NaN</td>\n",
       "      <td>NaN</td>\n",
       "      <td>NaN</td>\n",
       "      <td>25.0</td>\n",
       "      <td>NaN</td>\n",
       "      <td>793.541016</td>\n",
       "      <td>1257.040039</td>\n",
       "    </tr>\n",
       "    <tr>\n",
       "      <th>20</th>\n",
       "      <td>NaN</td>\n",
       "      <td>NaN</td>\n",
       "      <td>NaN</td>\n",
       "      <td>NaN</td>\n",
       "      <td>NaN</td>\n",
       "      <td>NaN</td>\n",
       "      <td>NaN</td>\n",
       "      <td>NaN</td>\n",
       "      <td>NaN</td>\n",
       "      <td>NaN</td>\n",
       "      <td>...</td>\n",
       "      <td>None</td>\n",
       "      <td>None</td>\n",
       "      <td>NaN</td>\n",
       "      <td>NaN</td>\n",
       "      <td>NaN</td>\n",
       "      <td>NaN</td>\n",
       "      <td>NaN</td>\n",
       "      <td>NaN</td>\n",
       "      <td>NaN</td>\n",
       "      <td>NaN</td>\n",
       "    </tr>\n",
       "    <tr>\n",
       "      <th>21</th>\n",
       "      <td>0.835</td>\n",
       "      <td>0.358369</td>\n",
       "      <td>0.743</td>\n",
       "      <td>0.318884</td>\n",
       "      <td>5.533529e+17</td>\n",
       "      <td>1.012</td>\n",
       "      <td>2.776260</td>\n",
       "      <td>0.982</td>\n",
       "      <td>28.689992</td>\n",
       "      <td>28.690045</td>\n",
       "      <td>...</td>\n",
       "      <td>None</td>\n",
       "      <td>None</td>\n",
       "      <td>0.986187</td>\n",
       "      <td>NaN</td>\n",
       "      <td>NaN</td>\n",
       "      <td>NaN</td>\n",
       "      <td>792.0</td>\n",
       "      <td>NaN</td>\n",
       "      <td>798.831970</td>\n",
       "      <td>1269.209961</td>\n",
       "    </tr>\n",
       "    <tr>\n",
       "      <th>22</th>\n",
       "      <td>1.034</td>\n",
       "      <td>0.309581</td>\n",
       "      <td>0.942</td>\n",
       "      <td>0.282036</td>\n",
       "      <td>5.563543e+17</td>\n",
       "      <td>1.012</td>\n",
       "      <td>2.233250</td>\n",
       "      <td>0.992</td>\n",
       "      <td>28.689975</td>\n",
       "      <td>28.690045</td>\n",
       "      <td>...</td>\n",
       "      <td>None</td>\n",
       "      <td>None</td>\n",
       "      <td>1.000000</td>\n",
       "      <td>NaN</td>\n",
       "      <td>NaN</td>\n",
       "      <td>NaN</td>\n",
       "      <td>125.0</td>\n",
       "      <td>NaN</td>\n",
       "      <td>807.158997</td>\n",
       "      <td>1365.949951</td>\n",
       "    </tr>\n",
       "    <tr>\n",
       "      <th>23</th>\n",
       "      <td>0.779</td>\n",
       "      <td>0.383744</td>\n",
       "      <td>0.716</td>\n",
       "      <td>0.352709</td>\n",
       "      <td>5.573750e+17</td>\n",
       "      <td>1.012</td>\n",
       "      <td>5.184940</td>\n",
       "      <td>0.985</td>\n",
       "      <td>28.690024</td>\n",
       "      <td>28.690045</td>\n",
       "      <td>...</td>\n",
       "      <td>None</td>\n",
       "      <td>None</td>\n",
       "      <td>0.986724</td>\n",
       "      <td>NaN</td>\n",
       "      <td>NaN</td>\n",
       "      <td>NaN</td>\n",
       "      <td>22.0</td>\n",
       "      <td>NaN</td>\n",
       "      <td>804.715027</td>\n",
       "      <td>1174.890015</td>\n",
       "    </tr>\n",
       "  </tbody>\n",
       "</table>\n",
       "<p>24 rows × 82 columns</p>\n",
       "</div>"
      ],
      "text/plain": [
       "    aimage  aimagerat  bimage  bimagerat        candid  chinr    chipsf  \\\n",
       "0    0.834   0.334940   0.744   0.298795  5.583597e+17  1.012  5.921492   \n",
       "1    0.785   0.406736   0.771   0.399482  5.283940e+17  1.012  5.872590   \n",
       "2    0.765   0.317427   0.727   0.301660  5.294034e+17  1.012  3.644890   \n",
       "3    0.878   0.295623   0.840   0.282828  5.324025e+17  1.012  2.086550   \n",
       "4    0.974   0.332423   0.907   0.309556  5.343982e+17  1.012  2.140210   \n",
       "5    1.189   0.379872   1.100   0.351438  5.353941e+17  1.012  1.746510   \n",
       "6    0.734   0.329148   0.716   0.321076  5.374373e+17  1.012  7.425900   \n",
       "7    0.769   0.351142   0.719   0.328311  5.384377e+17  1.012  4.711660   \n",
       "8    0.779   0.340175   0.753   0.328821  5.394212e+17  1.012  3.211380   \n",
       "9    0.677   0.354450   0.624   0.326702  5.404465e+17  1.012  5.214570   \n",
       "10   0.777   0.348430   0.720   0.322870  5.424473e+17  1.012  1.454090   \n",
       "11   0.910   0.390558   0.756   0.324464  5.434574e+17  1.012  0.901140   \n",
       "12     NaN        NaN     NaN        NaN           NaN    NaN       NaN   \n",
       "13   0.866   0.352033   0.799   0.324797  5.454409e+17  1.012  2.657750   \n",
       "14   0.675   0.349741   0.627   0.324870  5.464476e+17  1.012  2.838020   \n",
       "15   0.673   0.341624   0.651   0.330457  5.473203e+17  1.012  2.588190   \n",
       "16   0.839   0.323938   0.733   0.283012  5.484361e+17  1.012  3.078750   \n",
       "17   0.718   0.353695   0.697   0.343350  5.494042e+17  1.012  7.699650   \n",
       "18   0.790   0.362385   0.713   0.327064  5.504280e+17  1.012  1.801250   \n",
       "19   0.752   0.343379   0.740   0.337900  5.513313e+17  1.012  5.288610   \n",
       "20     NaN        NaN     NaN        NaN           NaN    NaN       NaN   \n",
       "21   0.835   0.358369   0.743   0.318884  5.533529e+17  1.012  2.776260   \n",
       "22   1.034   0.309581   0.942   0.282036  5.563543e+17  1.012  2.233250   \n",
       "23   0.779   0.383744   0.716   0.352709  5.573750e+17  1.012  5.184940   \n",
       "\n",
       "    classtar        dec      decnr     ...       ssmagnr  ssnamenr    sumrat  \\\n",
       "0      0.990  28.690015  28.690045     ...          -999      null  0.991501   \n",
       "1      0.977  28.689995  28.690045     ...          None      None  1.000000   \n",
       "2      0.984  28.690009  28.690045     ...          None      None  0.979505   \n",
       "3      0.979  28.690028  28.690045     ...          None      None  1.000000   \n",
       "4      0.978  28.689969  28.690045     ...          None      None  1.000000   \n",
       "5      0.971  28.689968  28.690045     ...          None      None  1.000000   \n",
       "6      1.000  28.690023  28.690045     ...          None      None  1.000000   \n",
       "7      0.985  28.690003  28.690045     ...          None      None  0.996816   \n",
       "8      1.000  28.690004  28.690045     ...          None      None  1.000000   \n",
       "9      0.981  28.690020  28.690045     ...          None      None  0.977343   \n",
       "10     0.977  28.690007  28.690045     ...          None      None  0.985111   \n",
       "11     0.996  28.690034  28.690045     ...          None      None  0.882734   \n",
       "12       NaN        NaN        NaN     ...          None      None       NaN   \n",
       "13     1.000  28.689991  28.690045     ...          None      None  0.996387   \n",
       "14     0.982  28.689999  28.690045     ...          None      None  0.932139   \n",
       "15     0.980  28.690023  28.690045     ...          None      None  0.867601   \n",
       "16     0.992  28.690033  28.690045     ...          None      None  1.000000   \n",
       "17     0.981  28.689997  28.690045     ...          None      None  1.000000   \n",
       "18     0.981  28.690013  28.690045     ...          None      None  1.000000   \n",
       "19     0.981  28.689997  28.690045     ...          None      None  0.985327   \n",
       "20       NaN        NaN        NaN     ...          None      None       NaN   \n",
       "21     0.982  28.689992  28.690045     ...          None      None  0.986187   \n",
       "22     0.992  28.689975  28.690045     ...          None      None  1.000000   \n",
       "23     0.985  28.690024  28.690045     ...          None      None  0.986724   \n",
       "\n",
       "    szmag1   szmag2  szmag3  tblid  tooflag        xpos         ypos  \n",
       "0   11.616  15.9605  -999.0   21.0      0.0  804.370728  1235.827026  \n",
       "1      NaN      NaN     NaN   87.0      NaN  801.806030  1337.579956  \n",
       "2      NaN      NaN     NaN  209.0      NaN  807.197998  1258.339966  \n",
       "3      NaN      NaN     NaN   15.0      NaN  803.140991  1246.989990  \n",
       "4      NaN      NaN     NaN   31.0      NaN  803.898987  1340.150024  \n",
       "5      NaN      NaN     NaN   50.0      NaN  802.281982  1137.810059  \n",
       "6      NaN      NaN     NaN  363.0      NaN  808.231018  1156.479980  \n",
       "7      NaN      NaN     NaN  129.0      NaN  809.143005  1159.790039  \n",
       "8      NaN      NaN     NaN   19.0      NaN  811.268982  1179.329956  \n",
       "9      NaN      NaN     NaN   27.0      NaN  809.742004  1202.829956  \n",
       "10     NaN      NaN     NaN   14.0      NaN  810.713013  1317.839966  \n",
       "11     NaN      NaN     NaN    7.0      NaN  812.260010  1246.430054  \n",
       "12     NaN      NaN     NaN    NaN      NaN         NaN          NaN  \n",
       "13     NaN      NaN     NaN   14.0      NaN  805.396973  1365.599976  \n",
       "14     NaN      NaN     NaN   17.0      NaN  804.822021  1331.910034  \n",
       "15     NaN      NaN     NaN   18.0      NaN  792.140015  1163.250000  \n",
       "16     NaN      NaN     NaN    7.0      NaN  804.666016  1194.550049  \n",
       "17     NaN      NaN     NaN   28.0      NaN  804.671997  1163.660034  \n",
       "18     NaN      NaN     NaN   25.0      NaN  804.127014  1182.089966  \n",
       "19     NaN      NaN     NaN   25.0      NaN  793.541016  1257.040039  \n",
       "20     NaN      NaN     NaN    NaN      NaN         NaN          NaN  \n",
       "21     NaN      NaN     NaN  792.0      NaN  798.831970  1269.209961  \n",
       "22     NaN      NaN     NaN  125.0      NaN  807.158997  1365.949951  \n",
       "23     NaN      NaN     NaN   22.0      NaN  804.715027  1174.890015  \n",
       "\n",
       "[24 rows x 82 columns]"
      ]
     },
     "execution_count": 8,
     "metadata": {},
     "output_type": "execute_result"
    }
   ],
   "source": [
    "dflc = make_dataframe(packet)\n",
    "dflc"
   ]
  },
  {
   "cell_type": "markdown",
   "metadata": {},
   "source": [
    "Each row in the table is one alert. The first row is the most recent alert, and the remaining rows are previous alerts at the same location. Looking at the table, you can see that some of the historical detections are upper limits, signified by the NaNs. Note that the most recent candidate has a few fields that are not present for the prv_candidates."
   ]
  },
  {
   "cell_type": "code",
   "execution_count": null,
   "metadata": {
    "collapsed": true
   },
   "outputs": [],
   "source": [
    "### The current candidate is the first line in this table, df[0]\n",
    "current_cand = df[0]\n",
    "\n",
    "### Exercise, repeat the exercises above, but this time using the df structure\n",
    "\n",
    "# 1) What is the JD, mag, filter, and uncertainty on the magnitude?\n",
    "print(df[0][ # finish this line\n",
    "\n",
    "# 2) What is the real-bogus score?\n",
    "\n",
    "print(df[0][ # Finish this line\n",
    "\n",
    "# 3) What is the distance to the nearest source in Pan-STARRS? \n",
    "    \n",
    "print(df[0][ # Finish this line\n",
    "        \n",
    "# 4) What is the magnitude and color of the nearest source in Pan-STARRS?\n",
    "        \n",
    "print(df[0][ # Finish this line\n",
    "\n",
    "# 5) Do you think that this candidate is a star? \n",
    "\n",
    "print(df[0][ # Finish this line"
   ]
  },
  {
   "cell_type": "markdown",
   "metadata": {},
   "source": [
    "Now, let's move on to plotting the light curve! "
   ]
  },
  {
   "cell_type": "code",
   "execution_count": 9,
   "metadata": {
    "collapsed": true
   },
   "outputs": [],
   "source": [
    "def plot_lightcurve(dflc, days_ago=True):\n",
    "    \n",
    "    filter_color = {1: 'green', 2: 'red', 3: 'pink'}\n",
    "    if days_ago:\n",
    "        now = Time.now().jd\n",
    "        t = dflc.jd - now\n",
    "        xlabel = 'Days Ago'\n",
    "    else:\n",
    "        t = dflc.jd\n",
    "        xlabel = 'Time (JD)'\n",
    "    \n",
    "    plt.figure()\n",
    "    for fid, color in filter_color.items():\n",
    "        # plot detections in this filter:\n",
    "        w = (dflc.fid == fid) & ~dflc.magpsf.isnull()\n",
    "        if np.sum(w):\n",
    "            plt.errorbar(t[w], dflc.loc[w, 'magpsf'], dflc.loc[w, 'sigmapsf'],\n",
    "                         fmt='.', color=color)\n",
    "        wnodet = (dflc.fid == fid) & dflc.magpsf.isnull()\n",
    "        if np.sum(wnodet):\n",
    "            plt.scatter(t[wnodet], dflc.loc[wnodet, 'diffmaglim'], \n",
    "                        marker='v', color=color, alpha=0.25)\n",
    "    \n",
    "    plt.gca().invert_yaxis()\n",
    "    plt.xlabel(xlabel)\n",
    "    plt.ylabel('Magnitude')"
   ]
  },
  {
   "cell_type": "code",
   "execution_count": 10,
   "metadata": {
    "collapsed": false
   },
   "outputs": [
    {
     "data": {
      "image/png": "iVBORw0KGgoAAAANSUhEUgAAAZIAAAEKCAYAAAA4t9PUAAAABHNCSVQICAgIfAhkiAAAAAlwSFlz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\ngg==\n",
      "text/plain": [
       "<matplotlib.figure.Figure at 0x10e8463c8>"
      ]
     },
     "metadata": {},
     "output_type": "display_data"
    }
   ],
   "source": [
    "plot_lightcurve(dflc)"
   ]
  },
  {
   "cell_type": "markdown",
   "metadata": {},
   "source": [
    "Now let's figure out how to display the cutout images. Note that these are gzip-compressed fits files stored as bytes."
   ]
  },
  {
   "cell_type": "code",
   "execution_count": 11,
   "metadata": {
    "collapsed": true
   },
   "outputs": [],
   "source": [
    "def plot_cutout(stamp, fig=None, subplot=None, **kwargs):\n",
    "    with gzip.open(io.BytesIO(stamp), 'rb') as f:\n",
    "        with fits.open(io.BytesIO(f.read())) as hdul:\n",
    "            if fig is None:\n",
    "                fig = plt.figure(figsize=(4, 4))\n",
    "            if subplot is None:\n",
    "                subplot = (1, 1, 1)\n",
    "            ffig = aplpy.FITSFigure(hdul[0], figure=fig, subplot=subplot, **kwargs)\n",
    "            ffig.show_grayscale(stretch='arcsinh')\n",
    "    return ffig\n",
    "\n",
    "\n",
    "def show_stamps(packet):\n",
    "    fig = plt.figure(figsize=(12, 4))\n",
    "    for i, cutout in enumerate(['Science', 'Template', 'Difference']):\n",
    "        stamp = packet['cutout{}'.format(cutout)]['stampData']\n",
    "        ffig = plot_cutout(stamp, fig=fig, subplot=(1, 3, i+1))\n",
    "        ffig.set_title(cutout)"
   ]
  },
  {
   "cell_type": "code",
   "execution_count": 12,
   "metadata": {
    "collapsed": false
   },
   "outputs": [
    {
     "name": "stderr",
     "output_type": "stream",
     "text": [
      "WARNING: No WCS information found in header - using pixel coordinates [aplpy.header]\n",
      "WARNING:astropy:No WCS information found in header - using pixel coordinates\n",
      "INFO:astropy:Auto-setting vmin to  9.311e+01\n",
      "INFO:astropy:Auto-setting vmax to  7.263e+02\n",
      "WARNING: No WCS information found in header - using pixel coordinates [aplpy.header]\n",
      "WARNING:astropy:No WCS information found in header - using pixel coordinates\n"
     ]
    },
    {
     "name": "stdout",
     "output_type": "stream",
     "text": [
      "INFO: Auto-setting vmin to  9.311e+01 [aplpy.core]\n",
      "INFO: Auto-setting vmax to  7.263e+02 [aplpy.core]\n",
      "INFO"
     ]
    },
    {
     "name": "stderr",
     "output_type": "stream",
     "text": [
      "INFO:astropy:Auto-setting vmin to  1.017e+02\n",
      "INFO:astropy:Auto-setting vmax to  6.891e+02\n",
      "WARNING: No WCS information found in header - using pixel coordinates [aplpy.header]\n",
      "WARNING:astropy:No WCS information found in header - using pixel coordinates\n"
     ]
    },
    {
     "name": "stdout",
     "output_type": "stream",
     "text": [
      ": Auto-setting vmin to  1.017e+02 [aplpy.core]\n",
      "INFO: Auto-setting vmax to  6.891e+02 [aplpy.core]\n",
      "INFO"
     ]
    },
    {
     "name": "stderr",
     "output_type": "stream",
     "text": [
      "INFO:astropy:Auto-setting vmin to -4.302e+01\n",
      "INFO:astropy:Auto-setting vmax to  4.761e+01\n"
     ]
    },
    {
     "name": "stdout",
     "output_type": "stream",
     "text": [
      ": Auto-setting vmin to -4.302e+01 [aplpy.core]\n",
      "INFO: Auto-setting vmax to  4.761e+01 [aplpy.core]\n"
     ]
    },
    {
     "data": {
      "image/png": "iVBORw0KGgoAAAANSUhEUgAAAtEAAAECCAYAAAA4i4sbAAAABHNCSVQICAgIfAhkiAAAAAlwSFlz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\nRU5ErkJggg==\n",
      "text/plain": [
       "<matplotlib.figure.Figure at 0x114223b38>"
      ]
     },
     "metadata": {},
     "output_type": "display_data"
    }
   ],
   "source": [
    "show_stamps(packet)"
   ]
  },
  {
   "cell_type": "markdown",
   "metadata": {},
   "source": [
    "---\n",
    "Let us now look at a few examples of how to query the database."
   ]
  },
  {
   "cell_type": "code",
   "execution_count": 13,
   "metadata": {
    "collapsed": true
   },
   "outputs": [],
   "source": [
    "import pymongo\n",
    "\n",
    "\n",
    "def connect_to_db(host='localhost', port=27018, \n",
    "                  user='ztf_user', password='veryStrongPa$$word'):\n",
    "    _client = pymongo.MongoClient(host=host, port=port)\n",
    "    # grab main database:\n",
    "    _db = _client['ztf_alerts']\n",
    "    # authenticate\n",
    "    _db.authenticate(user, password)\n",
    "    \n",
    "    return _db"
   ]
  },
  {
   "cell_type": "code",
   "execution_count": 14,
   "metadata": {
    "collapsed": true
   },
   "outputs": [],
   "source": [
    "db = connect_to_db()"
   ]
  },
  {
   "cell_type": "markdown",
   "metadata": {},
   "source": [
    "Find all distinct transient `objectId`'s present in the database:"
   ]
  },
  {
   "cell_type": "code",
   "execution_count": 15,
   "metadata": {
    "collapsed": false
   },
   "outputs": [
    {
     "name": "stdout",
     "output_type": "stream",
     "text": [
      "['ZTF17aaaaamy', 'ZTF17aaadzas', 'ZTF17aaadzci', 'ZTF17aaaebhk', 'ZTF17aaaedhh', 'ZTF17aaaenwn', 'ZTF17aaafyje', 'ZTF17aaajjpk', 'ZTF17aaajjvp', 'ZTF17aaapvru']\n"
     ]
    }
   ],
   "source": [
    "objectIds = db['alerts'].distinct('objectId')\n",
    "# print ten\n",
    "print(objectIds[:10])"
   ]
  },
  {
   "cell_type": "markdown",
   "metadata": {},
   "source": [
    "Count the number of alerts in the database:"
   ]
  },
  {
   "cell_type": "code",
   "execution_count": 16,
   "metadata": {
    "collapsed": false
   },
   "outputs": [
    {
     "name": "stdout",
     "output_type": "stream",
     "text": [
      "834\n"
     ]
    },
    {
     "name": "stderr",
     "output_type": "stream",
     "text": [
      "/Users/annaho/anaconda/lib/python3.5/site-packages/ipykernel/__main__.py:1: DeprecationWarning: count is deprecated. Use estimated_document_count or count_documents instead. Please note that $where must be replaced by $expr, $near must be replaced by $geoWithin with $center, and $nearSphere must be replaced by $geoWithin with $centerSphere\n",
      "  if __name__ == '__main__':\n"
     ]
    }
   ],
   "source": [
    "num_alerts = db['alerts'].count()\n",
    "print(num_alerts)"
   ]
  },
  {
   "cell_type": "markdown",
   "metadata": {},
   "source": [
    "Count the number of alerts in the database with an rb score > 0.5:"
   ]
  },
  {
   "cell_type": "code",
   "execution_count": 17,
   "metadata": {
    "collapsed": false
   },
   "outputs": [
    {
     "name": "stdout",
     "output_type": "stream",
     "text": [
      "451\n"
     ]
    },
    {
     "name": "stderr",
     "output_type": "stream",
     "text": [
      "/Users/annaho/anaconda/lib/python3.5/site-packages/ipykernel/__main__.py:1: DeprecationWarning: count is deprecated. Use estimated_document_count or count_documents instead. Please note that $where must be replaced by $expr, $near must be replaced by $geoWithin with $center, and $nearSphere must be replaced by $geoWithin with $centerSphere\n",
      "  if __name__ == '__main__':\n"
     ]
    }
   ],
   "source": [
    "num_alerts_rb_gt_05 = db['alerts'].count({'candidate.rb': {'$gt': 0.5}})\n",
    "print(num_alerts_rb_gt_05)"
   ]
  },
  {
   "cell_type": "markdown",
   "metadata": {},
   "source": [
    "Get all transient `objectId`'s detected more than once:"
   ]
  },
  {
   "cell_type": "code",
   "execution_count": 18,
   "metadata": {
    "collapsed": false
   },
   "outputs": [
    {
     "name": "stdout",
     "output_type": "stream",
     "text": [
      "{'objectId': 'ZTF18abgladq'}\n",
      "{'objectId': 'ZTF18abesqnb'}\n"
     ]
    }
   ],
   "source": [
    "cursor = db['alerts'].aggregate([{'$group': {'_id': '$objectId', 'count': {'$sum': 1}}}, \n",
    "                                 {'$match': {'count': {'$gt': 1}}}, \n",
    "                                 {'$project': {'objectId': '$_id', '_id': 0}}], \n",
    "                                allowDiskUse=True)\n",
    "for alert in cursor:\n",
    "    print(alert)"
   ]
  },
  {
   "cell_type": "markdown",
   "metadata": {},
   "source": [
    "Get all alert `objectId`'s for transients with more than one detection in R and i bands, each with an rb score of >= 0.3"
   ]
  },
  {
   "cell_type": "code",
   "execution_count": 19,
   "metadata": {
    "collapsed": false
   },
   "outputs": [
    {
     "name": "stdout",
     "output_type": "stream",
     "text": [
      "{'objectId': 'ZTF18abgladq'}\n"
     ]
    }
   ],
   "source": [
    "cursor = db['alerts'].aggregate([{'$group': {'_id': '$objectId',\n",
    "                                             'count': {'$sum': {'$cond': [{'$and': [\n",
    "                                                 {'$in': ['$candidate.fid', [2, 3]]},\n",
    "                                                 {'$gt': ['$candidate.rb', 0.3]}\n",
    "                                             ]\n",
    "                                             }, 1, 0]\n",
    "                                             }\n",
    "                                             }}},\n",
    "                                 {'$match': {'count': {'$gt': 1}}},\n",
    "                                 {'$project': {'objectId': '$_id', '_id': 0}}], allowDiskUse=True)\n",
    "for alert in cursor:\n",
    "    print(alert)\n"
   ]
  },
  {
   "cell_type": "markdown",
   "metadata": {},
   "source": [
    "Get alerts with `objectId` `ZTF18abgladq`. Plot the light curve of the second one and display the cutout images for it."
   ]
  },
  {
   "cell_type": "code",
   "execution_count": 20,
   "metadata": {
    "collapsed": false
   },
   "outputs": [
    {
     "name": "stderr",
     "output_type": "stream",
     "text": [
      "WARNING: No WCS information found in header - using pixel coordinates [aplpy.header]\n",
      "WARNING:astropy:No WCS information found in header - using pixel coordinates\n",
      "INFO:astropy:Auto-setting vmin to  1.049e+02\n",
      "INFO:astropy:Auto-setting vmax to  4.320e+02\n",
      "WARNING: No WCS information found in header - using pixel coordinates [aplpy.header]\n",
      "WARNING:astropy:No WCS information found in header - using pixel coordinates\n"
     ]
    },
    {
     "name": "stdout",
     "output_type": "stream",
     "text": [
      "INFO: Auto-setting vmin to  1.049e+02 [aplpy.core]\n",
      "INFO: Auto-setting vmax to  4.320e+02 [aplpy.core]\n",
      "INFO"
     ]
    },
    {
     "name": "stderr",
     "output_type": "stream",
     "text": [
      "INFO:astropy:Auto-setting vmin to  1.164e+02\n",
      "INFO:astropy:Auto-setting vmax to  3.966e+02\n",
      "WARNING: No WCS information found in header - using pixel coordinates [aplpy.header]\n",
      "WARNING:astropy:No WCS information found in header - using pixel coordinates\n"
     ]
    },
    {
     "name": "stdout",
     "output_type": "stream",
     "text": [
      ": Auto-setting vmin to  1.164e+02 [aplpy.core]\n",
      "INFO: Auto-setting vmax to  3.966e+02 [aplpy.core]\n",
      "INFO"
     ]
    },
    {
     "name": "stderr",
     "output_type": "stream",
     "text": [
      "INFO:astropy:Auto-setting vmin to -1.486e+01\n",
      "INFO:astropy:Auto-setting vmax to  4.545e+01\n"
     ]
    },
    {
     "name": "stdout",
     "output_type": "stream",
     "text": [
      ": Auto-setting vmin to -1.486e+01 [aplpy.core]\n",
      "INFO: Auto-setting vmax to  4.545e+01 [aplpy.core]\n"
     ]
    },
    {
     "data": {
      "image/png": "iVBORw0KGgoAAAANSUhEUgAAAYwAAAEKCAYAAAAB0GKPAAAABHNCSVQICAgIfAhkiAAAAAlwSFlz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\nwL38+QAAAABJRU5ErkJggg==\n",
      "text/plain": [
       "<matplotlib.figure.Figure at 0x115237160>"
      ]
     },
     "metadata": {},
     "output_type": "display_data"
    },
    {
     "data": {
      "image/png": "iVBORw0KGgoAAAANSUhEUgAAAtEAAAECCAYAAAA4i4sbAAAABHNCSVQICAgIfAhkiAAAAAlwSFlz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\n",
      "text/plain": [
       "<matplotlib.figure.Figure at 0x115237ba8>"
      ]
     },
     "metadata": {},
     "output_type": "display_data"
    }
   ],
   "source": [
    "cursor = db['alerts'].find({'objectId': {'$eq': 'ZTF18abgladq'}})\n",
    "\n",
    "alerts = [alert for alert in cursor]\n",
    "\n",
    "plot_lightcurve(make_dataframe(alerts[1]))\n",
    "show_stamps(alerts[1])"
   ]
  },
  {
   "cell_type": "markdown",
   "metadata": {},
   "source": [
    "---\n",
    "The `coordinates.radec_geojson` field defined for every object in the database has an associated spherical 2D index, which allows for extremely fast positional queries. `MongoDB` supports many query operators, see [here](https://docs.mongodb.com/manual/reference/operator/query-geospatial/) for more details. The caveat to keep in mind is the following: `MongoDB` uses `GeoJSON` objects to represent `2D` positions on the sphere. Both the longitude (RA) and latitude (Dec) must be expressed in decimal degrees, and the valid longitude values are between `-180` and `180`, both inclusive, so you must subtract 180.0 degrees from your RA value.\n",
    "\n",
    "Let's define a helper function for cone searches:"
   ]
  },
  {
   "cell_type": "code",
   "execution_count": 21,
   "metadata": {
    "collapsed": true
   },
   "outputs": [],
   "source": [
    "def cone_search(_db, collection='alerts',\n",
    "                ra=0.0, dec=0.0, radius=1.0, unit='arcsec',\n",
    "                projection=None):\n",
    "    # cone search radius:\n",
    "    cone_search_radius = float(radius)\n",
    "    # convert to rad:\n",
    "    if unit == 'arcsec':\n",
    "        cone_search_radius *= np.pi / 180.0 / 3600.\n",
    "    elif unit == 'arcmin':\n",
    "        cone_search_radius *= np.pi / 180.0 / 60.\n",
    "    elif unit == 'deg':\n",
    "        cone_search_radius *= np.pi / 180.0\n",
    "    elif unit == 'rad':\n",
    "        cone_search_radius *= 1\n",
    "    else:\n",
    "        raise Exception('Unknown cone search unit. Must be in [deg, rad, arcsec, arcmin]')\n",
    "    \n",
    "    # fields to return: everything by default\n",
    "    if projection is None:\n",
    "        projection = dict()\n",
    "    \n",
    "    cursor = _db[collection].find({'coordinates.radec_geojson': {\n",
    "        '$geoWithin': {'$centerSphere':\n",
    "                           [[ra - 180.0, dec],\n",
    "                            cone_search_radius]\n",
    "                       }\n",
    "    }}, projection)\n",
    "    \n",
    "    return cursor"
   ]
  },
  {
   "cell_type": "markdown",
   "metadata": {},
   "source": [
    "Now let's look for alerts within 30 arcsec from RA, Dec: (239.71 deg, 14.97 deg) and get their `objectId`'s and `rb` scores:"
   ]
  },
  {
   "cell_type": "code",
   "execution_count": 22,
   "metadata": {
    "collapsed": false
   },
   "outputs": [
    {
     "name": "stdout",
     "output_type": "stream",
     "text": [
      "[{'objectId': 'ZTF18abgladq', 'candidate': {'rb': 0.47333332896232605}}, {'objectId': 'ZTF18abgladq', 'candidate': {'rb': 0.5266666412353516}}, {'objectId': 'ZTF18abgladq', 'candidate': {'rb': 0.5133333206176758}}]\n"
     ]
    }
   ],
   "source": [
    "alerts = list(cone_search(db, ra=239.71, dec=14.97, radius=30.0, unit='arcsec',\n",
    "                          projection={'_id': 0, 'objectId': 1, 'candidate.rb': 1}))\n",
    "print(alerts)"
   ]
  },
  {
   "cell_type": "code",
   "execution_count": null,
   "metadata": {
    "collapsed": true
   },
   "outputs": [],
   "source": []
  }
 ],
 "metadata": {
  "kernelspec": {
   "display_name": "Python 3",
   "language": "python",
   "name": "python3"
  },
  "language_info": {
   "codemirror_mode": {
    "name": "ipython",
    "version": 3
   },
   "file_extension": ".py",
   "mimetype": "text/x-python",
   "name": "python",
   "nbconvert_exporter": "python",
   "pygments_lexer": "ipython3",
   "version": "3.5.1"
  }
 },
 "nbformat": 4,
 "nbformat_minor": 0
}
