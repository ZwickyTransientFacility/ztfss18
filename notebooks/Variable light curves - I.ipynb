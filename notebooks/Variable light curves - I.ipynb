{
 "cells": [
  {
   "cell_type": "markdown",
   "metadata": {},
   "source": [
    "## ZTF SS 2018\n",
    "### Ashish Mahabal"
   ]
  },
  {
   "cell_type": "markdown",
   "metadata": {},
   "source": [
    "### Use Anna's notebook with the following changes:\n",
    "### (1) isdiffpos = f\n",
    "### (2) A star within 2 arcsec\n",
    "\n",
    "### Also check how many objectId's show both isdiffpos = t and f (those would be variables)"
   ]
  },
  {
   "cell_type": "code",
   "execution_count": null,
   "metadata": {},
   "outputs": [],
   "source": [
    "count = 0\n",
    "for f in files:\n",
    "    with open(f, 'rb') as fo:\n",
    "        reader = fastavro.reader(fo)\n",
    "        candidate = next(reader, None)\n",
    "        result = my_varfilter1(candidate)  # isdiffpos == f\n",
    "        if result:\n",
    "            count += 1\n",
    "print(\"%s candidates passed the filter\" %count)"
   ]
  },
  {
   "cell_type": "code",
   "execution_count": null,
   "metadata": {},
   "outputs": [],
   "source": [
    "count = 0\n",
    "for f in files:\n",
    "    with open(f, 'rb') as fo:\n",
    "        reader = fastavro.reader(fo)\n",
    "        candidate = next(reader, None)\n",
    "        result = my_varfilter2(candidate)    # isdiffpos == f and distpsnr1 < 2\n",
    "        if result:\n",
    "            count += 1\n",
    "print(\"%s candidates passed the filter\" %count)"
   ]
  }
 ],
 "metadata": {
  "kernelspec": {
   "display_name": "Python 3",
   "language": "python",
   "name": "python3"
  },
  "language_info": {
   "codemirror_mode": {
    "name": "ipython",
    "version": 3
   },
   "file_extension": ".py",
   "mimetype": "text/x-python",
   "name": "python",
   "nbconvert_exporter": "python",
   "pygments_lexer": "ipython3",
   "version": "3.6.4"
  }
 },
 "nbformat": 4,
 "nbformat_minor": 2
}
