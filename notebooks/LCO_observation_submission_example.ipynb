{
 "cells": [
  {
   "cell_type": "markdown",
   "metadata": {},
   "source": [
    "# Submitting Observations to the LCO Network"
   ]
  },
  {
   "cell_type": "markdown",
   "metadata": {},
   "source": [
    "### Introduction\n",
    "Most astronomers are used to taking observations by describing the exact instrument configuration and telescope pointing that they require, perhaps to a Telescope Operator, or via a Phase 2 system.  At LCO, our system allows you to describe the observation you need in the same way, and to submit that request directly.  \n",
    "\n",
    "You can do this manually, using our [online portal](https://lco.global/observe), but its easy to write software to submit it for you and this interface offers a range of extra options which are not available through the web-form.  \n",
    "\n",
    "This notebook is designed to show you how to use this Application Programmable Interface (API) to submit an observing request to LCO.  "
   ]
  },
  {
   "cell_type": "markdown",
   "metadata": {},
   "source": [
    "### Example Science Case\n",
    "\n",
    "ZTF18abchuyt<br>\n",
    "RA = 00:45:31.4<br>\n",
    "Dec = 59:59:52.9<br>\n",
    "g = 15.992mag\n",
    "\n",
    "Our target is a recent alert from ZTF.   The difference image shows a point-star image and the lightcurve shows a recent increase in all passbands.  The shape of its lightcurve over the next few weeks, measured in multiple passbands, will tell us about the physics taking place, so we request that the LCO 1m network observe this target once a day in ugriZ filters.  "
   ]
  },
  {
   "cell_type": "markdown",
   "metadata": {},
   "source": [
    "### Describing the observation\n",
    "\n",
    "This notebook uses a short Python script to submit this request for observations to the network, but you can write similar code in whatever language you prefer. \n",
    "\n",
    "We'll communicate with the network via HTTP, and Python provides a handy library to make this easy:"
   ]
  },
  {
   "cell_type": "code",
   "execution_count": 3,
   "metadata": {},
   "outputs": [],
   "source": [
    "import requests"
   ]
  },
  {
   "cell_type": "markdown",
   "metadata": {},
   "source": [
    "Now we'll describe the observation we want to make as a series of python dictionaries. \n",
    "\n",
    "Firstly, let's provide the details of the target, making sure to convert the coordinates to decimal degrees:"
   ]
  },
  {
   "cell_type": "code",
   "execution_count": 4,
   "metadata": {},
   "outputs": [],
   "source": [
    "target = {\n",
    "    'name': 'ZTF18abchuyt',\n",
    "    'type': 'SIDEREAL',\n",
    "    'ra': 11.3809479,\n",
    "    'dec': 59.9980324,\n",
    "    'epoch': 2000\n",
    "}"
   ]
  },
  {
   "cell_type": "markdown",
   "metadata": {},
   "source": [
    "Next we describe the exposures that we'd like to take.  \n",
    "\n",
    "We want to use 1m telescope network to monitor the brightness of this object in ugriZ filters over the course of the next few weeks.  Firstly, we need to estimate what exposure time will be required in each filter, using LCO's online calculator which you can find [here](https://lco.global/files/etc/exposure_time_calculator.html).  "
   ]
  },
  {
   "cell_type": "markdown",
   "metadata": {},
   "source": [
    "Exposures are always specified as an ordered *list of dictionaries*.  This enables you to take multi-passband sequences, just by requesting different filters.  For example, the code below would request 2 exposures in SDSS-u, followed by 2 in SDSS-g, followed by 2 in SDSS-r, and so on, just by adding dictionaries to the list.  Note the filter name abbreviations.  "
   ]
  },
  {
   "cell_type": "code",
   "execution_count": 26,
   "metadata": {},
   "outputs": [],
   "source": [
    "exposures = [\n",
    "    {\n",
    "        'type': 'EXPOSE',\n",
    "        'instrument_name': '1M0-SCICAM-SINISTRO',\n",
    "        'filter': 'up',\n",
    "        'exposure_time': 120,\n",
    "        'exposure_count': 2,\n",
    "        'bin_x': 1,\n",
    "        'bin_y': 1,\n",
    "        'defocus': 0.0,\n",
    "        'ag_mode': 'OPTIONAL',\n",
    "    },\n",
    "    {\n",
    "        'type': 'EXPOSE',\n",
    "        'instrument_name': '1M0-SCICAM-SINISTRO',\n",
    "        'filter': 'gp',\n",
    "        'exposure_time': 60,\n",
    "        'exposure_count': 2,\n",
    "        'bin_x': 1,\n",
    "        'bin_y': 1,\n",
    "        'defocus': 0.0,\n",
    "        'ag_mode': 'OPTIONAL',\n",
    "    },\n",
    "    {\n",
    "        'type': 'EXPOSE',\n",
    "        'instrument_name': '1M0-SCICAM-SINISTRO',\n",
    "        'filter': 'rp',\n",
    "        'exposure_time': 60,\n",
    "        'exposure_count': 2,\n",
    "        'bin_x': 1,\n",
    "        'bin_y': 1,\n",
    "        'defocus': 0.0,\n",
    "        'ag_mode': 'OPTIONAL',\n",
    "    },\n",
    "    {\n",
    "        'type': 'EXPOSE',\n",
    "        'instrument_name': '1M0-SCICAM-SINISTRO',\n",
    "        'filter': 'ip',\n",
    "        'exposure_time': 60,\n",
    "        'exposure_count': 2,\n",
    "        'bin_x': 1,\n",
    "        'bin_y': 1,\n",
    "        'defocus': 0.0,\n",
    "        'ag_mode': 'OPTIONAL',\n",
    "    },\n",
    "    {\n",
    "        'type': 'EXPOSE',\n",
    "        'instrument_name': '1M0-SCICAM-SINISTRO',\n",
    "        'filter': 'zs',\n",
    "        'exposure_time': 90,\n",
    "        'exposure_count': 2,\n",
    "        'bin_x': 1,\n",
    "        'bin_y': 1,\n",
    "        'defocus': 0.0,\n",
    "        'ag_mode': 'OPTIONAL',\n",
    "    }\n",
    "]"
   ]
  },
  {
   "cell_type": "markdown",
   "metadata": {},
   "source": [
    "The next step is to describe when we'd like this observation to start and finish, noting that all dates and times are specified in UTC.  The default would be for a single visit to the target, but in this case we also want the observation to be repeated once a day for several weeks.  "
   ]
  },
  {
   "cell_type": "code",
   "execution_count": 28,
   "metadata": {},
   "outputs": [],
   "source": [
    "cadence = {\n",
    "    'start': '2018-07-21 01:00:00',\n",
    "    'end': '2018-09-30 23:59:59', \n",
    "    'period': 24.0, \n",
    "    'jitter': 12.0\n",
    "}"
   ]
  },
  {
   "cell_type": "markdown",
   "metadata": {},
   "source": [
    "During this period, the target may be visible from several sites in the network, at different times of day.  Working out the visibility windows from every telescope would be tedious!  So the network has an API which will do this for you.  "
   ]
  },
  {
   "cell_type": "markdown",
   "metadata": {},
   "source": [
    "We just need to describe which telescopes we'd like to use.  In general, \n",
    "its best just to indicate which *aperture-class* of telescope you want - this tells the scheduler that it can assign this observation to *any* telescope in the network which is capable of performing the observation.  \n",
    "\n",
    "The scheduler knows, in real-time, which telescopes are available, which are offline for engineering work, what the weather is at each telescope site, and where it will be dark during the time windows where you requested observations.  When you submit an observation, the scheduler works out the target visibility, and figures out which telescope sites can observe your target, within those windows.  \n",
    "\n",
    "Of course, conditions at all the telescope sites can change.  The scheduler monitors this in real-time, and will re-schedule all observations, changing them from one telescope to another or even between sites if necessary.  For this reason, its always a good idea to give the scheduler the maximum possible flexibility in *where* and *when* it can carry out your observation.  \n",
    "\n",
    "So we won't specify a location, except to say that in this case we'll use a 1m (rather than an 0.4m or a 2m) telescope. "
   ]
  },
  {
   "cell_type": "code",
   "execution_count": 29,
   "metadata": {},
   "outputs": [],
   "source": [
    "location = {\n",
    "    'telescope_class': '1m0'\n",
    "}"
   ]
  },
  {
   "cell_type": "markdown",
   "metadata": {},
   "source": [
    "There are two other constraints which we may want to control - the maximum airmass that we will allow the telescope to point to and the minimum separation from the Moon.  The network provides sensible defaults, which we're doing to use here:"
   ]
  },
  {
   "cell_type": "code",
   "execution_count": 30,
   "metadata": {},
   "outputs": [],
   "source": [
    "constraints = {\n",
    "    'max_airmass': 1.6,\n",
    "    'min_lunar_distance': 30\n",
    "}\n"
   ]
  },
  {
   "cell_type": "markdown",
   "metadata": {},
   "source": [
    "Of course, before we observe on any telescope, we first need to have an allocation of time!  Whenever you are successful in proposing to LCO, you'll be sent a proposal ID code, which represents the pot of time which will be automatically debited when observations are executed. So we'll need to include this in our observation request, to tell the scheduler which allocation to charge:"
   ]
  },
  {
   "cell_type": "code",
   "execution_count": 31,
   "metadata": {},
   "outputs": [],
   "source": [
    "proposal_id = 'YOUR_PROPOSAL_ID'"
   ]
  },
  {
   "cell_type": "markdown",
   "metadata": {},
   "source": [
    "Many projects have several targets which have observations ongoing simultaneously.  That's fine - the scheduler will try to do them all if it can.  But inevitably there are times when it can't, and in those cases its sometimes helpful for projects to indicate which of their own observations are most important to them.  This is called the observation's 'intra-proposal priority' and its specified as a floating point number.  'Normal' priority is 1.0, and you can read [here](https://lco.global/files/User_Documentation/the_new_priority_factor.pdf) about making use of this feature. "
   ]
  },
  {
   "cell_type": "code",
   "execution_count": 32,
   "metadata": {},
   "outputs": [],
   "source": [
    "ipp = 1.0"
   ]
  },
  {
   "cell_type": "markdown",
   "metadata": {},
   "source": [
    "One last thing - its helpful to have a meaningful name for this observation so we can recognize it when we watch its progress through the [LCO observe portal](https://lco.global/observe)."
   ]
  },
  {
   "cell_type": "code",
   "execution_count": 33,
   "metadata": {},
   "outputs": [],
   "source": [
    "group_id = 'ZTF1'"
   ]
  },
  {
   "cell_type": "markdown",
   "metadata": {},
   "source": [
    "Now we can put all that together as a *user request*. "
   ]
  },
  {
   "cell_type": "code",
   "execution_count": 45,
   "metadata": {},
   "outputs": [],
   "source": [
    "cadence_request = {\n",
    "    'group_id': group_id, \n",
    "    'proposal': proposal_id,\n",
    "    'ipp_value': ipp,\n",
    "    'operator': 'SINGLE',\n",
    "    'observation_type': 'NORMAL',\n",
    "    'requests': [{\n",
    "        'target': target,\n",
    "        'molecules': exposures,\n",
    "        'cadence': cadence,\n",
    "        'location': location,\n",
    "        'constraints': constraints\n",
    "    }]\n",
    "}"
   ]
  },
  {
   "cell_type": "markdown",
   "metadata": {},
   "source": [
    "This request is not quite complete: first we need to ask the network when the target will be visible from the different sites.  "
   ]
  },
  {
   "cell_type": "markdown",
   "metadata": {},
   "source": [
    "### Authentication\n",
    "\n",
    "Since this is done over the wild west of the internet, to protect LCO from hostile attack, we need to establish some credentials.  \n",
    "\n",
    "The good news is that you only need to do this once!  The network issues you a token which you can use from then onwards.  To get your token, go to [your profile page](https://observe.lco.global/accounts/profile/).  **But treat it like a password and don't share it!**  If you think its been compromise, you can revoke it from your profile page and get a new one.\n",
    "\n",
    "A token looks like this:"
   ]
  },
  {
   "cell_type": "code",
   "execution_count": 46,
   "metadata": {},
   "outputs": [],
   "source": [
    "token = \"YOUR_TOKEN_HERE\""
   ]
  },
  {
   "cell_type": "markdown",
   "metadata": {},
   "source": [
    "### Asking for windows for a cadence request"
   ]
  },
  {
   "cell_type": "markdown",
   "metadata": {},
   "source": [
    "Adding these credentials to our user request, we can now send it to LCO as an HTTP request:"
   ]
  },
  {
   "cell_type": "code",
   "execution_count": 47,
   "metadata": {},
   "outputs": [],
   "source": [
    "user_request = requests.post(\n",
    "    'https://observe.lco.global/api/userrequests/cadence/',\n",
    "    headers={'Authorization': 'Token '+token},\n",
    "    json=cadence_request).json()"
   ]
  },
  {
   "cell_type": "markdown",
   "metadata": {},
   "source": [
    "This API will return the request that you submitted, but you will find that the network has replaced the cadence dictionary we submitted with a list of specific windows when this target can be observed."
   ]
  },
  {
   "cell_type": "code",
   "execution_count": 50,
   "metadata": {
    "scrolled": false
   },
   "outputs": [
    {
     "name": "stdout",
     "output_type": "stream",
     "text": [
      "[{u'start': u'2018-08-02T19:00:00Z', u'end': u'2018-08-03T07:00:00Z'}]\n",
      "[{u'start': u'2018-08-03T19:00:00Z', u'end': u'2018-08-04T07:00:00Z'}]\n",
      "[{u'start': u'2018-08-04T19:00:00Z', u'end': u'2018-08-05T07:00:00Z'}]\n",
      "[{u'start': u'2018-08-05T19:00:00Z', u'end': u'2018-08-06T07:00:00Z'}]\n",
      "[{u'start': u'2018-08-06T19:00:00Z', u'end': u'2018-08-07T07:00:00Z'}]\n",
      "[{u'start': u'2018-08-07T19:00:00Z', u'end': u'2018-08-08T07:00:00Z'}]\n",
      "[{u'start': u'2018-08-08T19:00:00Z', u'end': u'2018-08-09T07:00:00Z'}]\n",
      "[{u'start': u'2018-08-09T19:00:00Z', u'end': u'2018-08-10T07:00:00Z'}]\n",
      "[{u'start': u'2018-08-10T19:00:00Z', u'end': u'2018-08-11T07:00:00Z'}]\n",
      "[{u'start': u'2018-08-11T19:00:00Z', u'end': u'2018-08-12T07:00:00Z'}]\n",
      "[{u'start': u'2018-08-12T19:00:00Z', u'end': u'2018-08-13T07:00:00Z'}]\n",
      "[{u'start': u'2018-08-13T19:00:00Z', u'end': u'2018-08-14T07:00:00Z'}]\n",
      "[{u'start': u'2018-08-14T19:00:00Z', u'end': u'2018-08-15T07:00:00Z'}]\n",
      "[{u'start': u'2018-08-15T19:00:00Z', u'end': u'2018-08-16T07:00:00Z'}]\n",
      "[{u'start': u'2018-08-16T19:00:00Z', u'end': u'2018-08-17T07:00:00Z'}]\n",
      "[{u'start': u'2018-08-17T19:00:00Z', u'end': u'2018-08-18T07:00:00Z'}]\n",
      "[{u'start': u'2018-08-18T19:00:00Z', u'end': u'2018-08-19T07:00:00Z'}]\n",
      "[{u'start': u'2018-08-19T19:00:00Z', u'end': u'2018-08-20T07:00:00Z'}]\n",
      "[{u'start': u'2018-08-20T19:00:00Z', u'end': u'2018-08-21T07:00:00Z'}]\n",
      "[{u'start': u'2018-08-21T19:00:00Z', u'end': u'2018-08-22T07:00:00Z'}]\n",
      "[{u'start': u'2018-08-22T19:00:00Z', u'end': u'2018-08-23T07:00:00Z'}]\n",
      "[{u'start': u'2018-08-23T19:00:00Z', u'end': u'2018-08-24T07:00:00Z'}]\n",
      "[{u'start': u'2018-08-24T19:00:00Z', u'end': u'2018-08-25T07:00:00Z'}]\n",
      "[{u'start': u'2018-08-25T19:00:00Z', u'end': u'2018-08-26T07:00:00Z'}]\n",
      "[{u'start': u'2018-08-26T19:00:00Z', u'end': u'2018-08-27T07:00:00Z'}]\n",
      "[{u'start': u'2018-08-27T19:00:00Z', u'end': u'2018-08-28T07:00:00Z'}]\n",
      "[{u'start': u'2018-08-28T19:00:00Z', u'end': u'2018-08-29T07:00:00Z'}]\n",
      "[{u'start': u'2018-08-29T19:00:00Z', u'end': u'2018-08-30T07:00:00Z'}]\n",
      "[{u'start': u'2018-08-30T19:00:00Z', u'end': u'2018-08-31T07:00:00Z'}]\n",
      "[{u'start': u'2018-08-31T19:00:00Z', u'end': u'2018-09-01T07:00:00Z'}]\n",
      "[{u'start': u'2018-09-01T19:00:00Z', u'end': u'2018-09-02T07:00:00Z'}]\n",
      "[{u'start': u'2018-09-02T19:00:00Z', u'end': u'2018-09-03T07:00:00Z'}]\n",
      "[{u'start': u'2018-09-03T19:00:00Z', u'end': u'2018-09-04T07:00:00Z'}]\n",
      "[{u'start': u'2018-09-04T19:00:00Z', u'end': u'2018-09-05T07:00:00Z'}]\n",
      "[{u'start': u'2018-09-05T19:00:00Z', u'end': u'2018-09-06T07:00:00Z'}]\n",
      "[{u'start': u'2018-09-06T19:00:00Z', u'end': u'2018-09-07T07:00:00Z'}]\n",
      "[{u'start': u'2018-09-07T19:00:00Z', u'end': u'2018-09-08T07:00:00Z'}]\n",
      "[{u'start': u'2018-09-08T19:00:00Z', u'end': u'2018-09-09T07:00:00Z'}]\n",
      "[{u'start': u'2018-09-09T19:00:00Z', u'end': u'2018-09-10T07:00:00Z'}]\n",
      "[{u'start': u'2018-09-10T19:00:00Z', u'end': u'2018-09-11T07:00:00Z'}]\n",
      "[{u'start': u'2018-09-11T19:00:00Z', u'end': u'2018-09-12T07:00:00Z'}]\n",
      "[{u'start': u'2018-09-12T19:00:00Z', u'end': u'2018-09-13T07:00:00Z'}]\n",
      "[{u'start': u'2018-09-13T19:00:00Z', u'end': u'2018-09-14T07:00:00Z'}]\n",
      "[{u'start': u'2018-09-14T19:00:00Z', u'end': u'2018-09-15T07:00:00Z'}]\n",
      "[{u'start': u'2018-09-15T19:00:00Z', u'end': u'2018-09-16T07:00:00Z'}]\n",
      "[{u'start': u'2018-09-16T19:00:00Z', u'end': u'2018-09-17T07:00:00Z'}]\n",
      "[{u'start': u'2018-09-17T19:00:00Z', u'end': u'2018-09-18T07:00:00Z'}]\n",
      "[{u'start': u'2018-09-18T19:00:00Z', u'end': u'2018-09-19T07:00:00Z'}]\n",
      "[{u'start': u'2018-09-19T19:00:00Z', u'end': u'2018-09-20T07:00:00Z'}]\n",
      "[{u'start': u'2018-09-20T19:00:00Z', u'end': u'2018-09-21T07:00:00Z'}]\n",
      "[{u'start': u'2018-09-21T19:00:00Z', u'end': u'2018-09-22T07:00:00Z'}]\n",
      "[{u'start': u'2018-09-22T19:00:00Z', u'end': u'2018-09-23T07:00:00Z'}]\n",
      "[{u'start': u'2018-09-23T19:00:00Z', u'end': u'2018-09-24T07:00:00Z'}]\n",
      "[{u'start': u'2018-09-24T19:00:00Z', u'end': u'2018-09-25T07:00:00Z'}]\n",
      "[{u'start': u'2018-09-25T19:00:00Z', u'end': u'2018-09-26T07:00:00Z'}]\n",
      "[{u'start': u'2018-09-26T19:00:00Z', u'end': u'2018-09-27T07:00:00Z'}]\n",
      "[{u'start': u'2018-09-27T19:00:00Z', u'end': u'2018-09-28T07:00:00Z'}]\n",
      "[{u'start': u'2018-09-28T19:00:00Z', u'end': u'2018-09-29T07:00:00Z'}]\n",
      "[{u'start': u'2018-09-29T19:00:00Z', u'end': u'2018-09-30T07:00:00Z'}]\n"
     ]
    }
   ],
   "source": [
    "for r in user_request['requests']:\n",
    "    print(r['windows'])\n"
   ]
  },
  {
   "cell_type": "markdown",
   "metadata": {},
   "source": [
    "### Submitting the observation request"
   ]
  },
  {
   "cell_type": "markdown",
   "metadata": {},
   "source": [
    "The request is now complete and ready to be submitted.  This is done using the same HTTP POST protocol, we just submit it to a different endpoint API, https://observe.lco.global/api/userrequests/ :"
   ]
  },
  {
   "cell_type": "code",
   "execution_count": 51,
   "metadata": {},
   "outputs": [],
   "source": [
    "response = requests.post(\n",
    "    'https://observe.lco.global/api/userrequests/',\n",
    "    headers={'Authorization': 'Token '+token},\n",
    "    json=user_request).json()"
   ]
  },
  {
   "cell_type": "markdown",
   "metadata": {},
   "source": [
    "The network's reply will include your original request in JSON format, together with information on its status and any errors.  In case there was a problem, its worth parsing the reply and searching for the key word 'detail', which will tell you what the issue was.  If it was submitted successfully, the network will assign it a unique tracking number.  "
   ]
  },
  {
   "cell_type": "code",
   "execution_count": 54,
   "metadata": {},
   "outputs": [
    {
     "name": "stdout",
     "output_type": "stream",
     "text": [
      "Tracking ID: 675133\n"
     ]
    }
   ],
   "source": [
    "if 'detail' in response.keys():\n",
    "    print response['detail']\n",
    "else:\n",
    "    print('Tracking ID: '+str(response['id']))"
   ]
  },
  {
   "cell_type": "markdown",
   "metadata": {},
   "source": [
    "To monitor the progress of your observation, you can use the LCO observe portal and click on 'Requests' -> 'Submitted', or go straight to this particular request by replacing [track_id] in this URL: https://observe.lco.global/userrequests/[track_id]/"
   ]
  },
  {
   "cell_type": "markdown",
   "metadata": {},
   "source": [
    "There are also programmatic ways to ask the network to tell you the status of your observation.  You can find out more about these at [developers.lco.global](https://developers.lco.global)"
   ]
  },
  {
   "cell_type": "code",
   "execution_count": null,
   "metadata": {
    "collapsed": true
   },
   "outputs": [],
   "source": []
  }
 ],
 "metadata": {
  "kernelspec": {
   "display_name": "Python 2",
   "language": "python",
   "name": "python2"
  },
  "language_info": {
   "codemirror_mode": {
    "name": "ipython",
    "version": 2
   },
   "file_extension": ".py",
   "mimetype": "text/x-python",
   "name": "python",
   "nbconvert_exporter": "python",
   "pygments_lexer": "ipython2",
   "version": "2.7.10"
  }
 },
 "nbformat": 4,
 "nbformat_minor": 2
}
